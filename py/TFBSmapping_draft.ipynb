{
 "cells": [
  {
   "cell_type": "markdown",
   "metadata": {},
   "source": [
    "## Bring in Alignment for mapping\n",
    "\n",
    "This program will map TFBS using the Biopython's motif package.\n",
    "\n",
    "**Inputs**: \n",
    "1. before alignment (fasta) \n",
    "2. after alignment (fasta) \n",
    "3. TFBS Position Frequency Matrix.\n",
    "\n",
    "After working with this script for awhile, it seems like in the future I will have to have each motif be a different file and make a script that loops through the contents of a folder and outputs the position of each enhancer motif. This will be appended to the file output.\n",
    "\n",
    "Each species ID will have to be appended to each dataframe. \n",
    "\n",
    "Also, I believe I should make the raw sequences from the alignment file."
   ]
  },
  {
   "cell_type": "code",
   "execution_count": 32,
   "metadata": {
    "collapsed": false
   },
   "outputs": [],
   "source": [
    "from Bio import motifs\n",
    "from Bio import SeqIO \n",
    "from Bio.Seq import Seq\n",
    "from Bio.Alphabet import IUPAC, generic_dna, generic_protein\n",
    "import re\n",
    "import pandas as pd\n",
    "import numpy as np\n",
    "import os, sys"
   ]
  },
  {
   "cell_type": "code",
   "execution_count": 21,
   "metadata": {
    "collapsed": false
   },
   "outputs": [
    {
     "name": "stdout",
     "output_type": "stream",
     "text": [
      "Found 9 records in alignment file\n",
      "['align_seq', 'id']\n",
      "<class 'pandas.core.frame.DataFrame'>\n"
     ]
    }
   ],
   "source": [
    "## Alignment Input\n",
    "\n",
    "# read in alignment as a list of sequences\n",
    "alignment = list(SeqIO.parse(\"../data/fasta/output_ludwig_eve-striped-2.fa\", \"fasta\"))\n",
    "\n",
    "# Check\n",
    "print(\"Found %i records in alignment file\" % len(alignment))\n",
    "\n",
    "## Turn a sequences into a list of strings\n",
    "## They are no longer bio.seq.seq objects though\n",
    "alignment_string_list = []\n",
    "for seq in alignment:\n",
    "    alignment_string_list.append(str(seq.seq))\n",
    "\n",
    "## Get just a list of the seq IDs\n",
    "## Maybe I can add them back later\n",
    "alignment_id = []\n",
    "for seq in alignment:\n",
    "    alignment_id.append(str(seq.id))\n",
    "\n",
    "## This turns them into a dataframe\n",
    "alignment_df = pd.DataFrame(\n",
    "    {'id': alignment_id,\n",
    "     'align_seq': alignment_string_list\n",
    "    })\n",
    "\n",
    "\n",
    "## Check\n",
    "print list(alignment_df)\n",
    "print type(alignment_df)\n",
    "\n",
    "##############################\n",
    "# [x] I feel weird going ahead with out seq ids. Maybe at this point turn into a dictionary?\n",
    "# [x] No, what I really need is to turn this into a dataframe\n",
    "# [ ] Now I need to make sure I can use the seqences to continue on. Since I turned it into a dataframe.\n"
   ]
  },
  {
   "cell_type": "code",
   "execution_count": 34,
   "metadata": {
    "collapsed": false
   },
   "outputs": [],
   "source": [
    "# Make the raw sequence file from alignment file\n",
    "## Use \"list comprehensions\" to remove gap sign. \n",
    "## alignment_ungapped = [record.replace('-', '') for record in alignment_string_list]"
   ]
  },
  {
   "cell_type": "code",
   "execution_count": 49,
   "metadata": {
    "collapsed": false
   },
   "outputs": [
    {
     "name": "stdout",
     "output_type": "stream",
     "text": [
      "Found 9 records in raw sequence file\n"
     ]
    }
   ],
   "source": [
    "## Raw Sequences Input\n",
    "\n",
    "raw_sequences = list(SeqIO.parse(\"../data/fasta/ludwig_eve-striped-2.fasta\", \"fasta\"))\n",
    "print(\"Found %i records in raw sequence file\" % len(raw_sequences))\n",
    "\n",
    "# make all IUPAC.IUPACUnambiguousDNA()\n",
    "raw_sequences_2 = []\n",
    "\n",
    "for seq in raw_sequences:\n",
    "    raw_sequences_2.append(Seq(str(seq.seq), IUPAC.IUPACUnambiguousDNA()))\n",
    "\n",
    "# Check\n",
    "\n",
    "#print raw_sequences_2\n",
    "#print type(raw_sequences_2)\n",
    "\n",
    "# Check\n",
    "#for seq in raw_sequences_2:\n",
    "    #print(seq.alphabet)\n",
    "    #print(type(seq))"
   ]
  },
  {
   "cell_type": "code",
   "execution_count": 50,
   "metadata": {
    "collapsed": false
   },
   "outputs": [
    {
     "name": "stdout",
     "output_type": "stream",
     "text": [
      "        0      1      2      3      4      5      6      7\n",
      "A:   0.19   0.17   0.88   0.92   0.04   0.04   0.06   0.12\n",
      "C:   0.37   0.08   0.04   0.02   0.02   0.87   0.52   0.25\n",
      "G:   0.08   0.04   0.04   0.04   0.33   0.02   0.08   0.37\n",
      "T:   0.37   0.71   0.04   0.02   0.62   0.08   0.35   0.27\n",
      "\n",
      "IUPACUnambiguousDNA()\n",
      "<type 'list'>\n"
     ]
    }
   ],
   "source": [
    "## Motif Input\n",
    "\n",
    "bcd = motifs.read(open(\"../data/PWM/transpose_fm/bcd_FlyReg.fm\"),\"pfm\")\n",
    "print(bcd.counts)\n",
    "pwm = bcd.counts.normalize(pseudocounts=0.0)\n",
    "pssm = pwm.log_odds()\n",
    "\n",
    "# Check\n",
    "print(pssm.alphabet)\n",
    "print(type(raw_sequences_2))"
   ]
  },
  {
   "cell_type": "code",
   "execution_count": 51,
   "metadata": {
    "collapsed": false
   },
   "outputs": [
    {
     "name": "stdout",
     "output_type": "stream",
     "text": [
      "Patser Threshold 3.262\n",
      "nothing\n"
     ]
    }
   ],
   "source": [
    "## Searching the Sequences\n",
    "pssm_list = [ ]\n",
    "for seq in raw_sequences_2:\n",
    "    pssm_list.append(pssm.calculate(seq))\n",
    "\n",
    "## Check\n",
    "#print(pssm_list)\n",
    "#for seq in pssm_list:\n",
    "    #print(\"Background: %f\" % bcd.pssm.mean(bcd.background))\n",
    "    \n",
    "################################\n",
    "# [ ] Its the same background for all the sequences? That weird.  Right?\n",
    "################################\n",
    "\n",
    "# Patser Threshold\n",
    "\n",
    "distribution = pssm.distribution(background=bcd.background, precision=10**4)\n",
    "threshold = distribution.threshold_patser()\n",
    "\n",
    "print(\"Patser Threshold %5.3f\" % threshold) #automatically calulate Paster threshold. "
   ]
  },
  {
   "cell_type": "code",
   "execution_count": 54,
   "metadata": {
    "collapsed": false
   },
   "outputs": [],
   "source": [
    "position_list = []\n",
    "score_list = []\n",
    "\n",
    "###################################\n",
    "# [ ] Need to reiterate over raw_sequences_2\n",
    "# [ ] When reiterating over raw_sequences_2, attach id\n",
    "#################################\n",
    "    \n",
    "for position, score in pssm.search(raw_sequences_2[0], threshold=6):\n",
    "    position_list.append(position)\n",
    "    score_list.append(score)\n",
    "\n",
    "# Change position to positive\n",
    "position_list_pos = []\n",
    "for x in position_list:\n",
    "    if x < 0:\n",
    "       position_list_pos.append(905 + x)\n",
    "    else:\n",
    "       position_list_pos.append(x)\n",
    "#print(position_list_pos)\n",
    "\n",
    "strand = []\n",
    "for x in position_list:\n",
    "    if x < 0:\n",
    "       strand.append(\"negative\")\n",
    "    else:\n",
    "       strand.append(\"positive\")"
   ]
  },
  {
   "cell_type": "code",
   "execution_count": 59,
   "metadata": {
    "collapsed": false
   },
   "outputs": [
    {
     "name": "stdout",
     "output_type": "stream",
     "text": [
      "[224, 221, 403, 596, 712, 881, 869, 903, 1114]\n",
      "ludwig_eve-striped-2||MEMB002A|+\n",
      "<type 'str'>\n"
     ]
    }
   ],
   "source": [
    "## get alignment position using `alignment_string_list`\n",
    "\n",
    "remap_dict = {}\n",
    "nuc_list = ['A', 'a', 'G', 'g', 'C', 'c', 'T', 't', 'N', 'n']\n",
    "counter = 0\n",
    "\n",
    "#######################\n",
    "# [ ] Reiterate through all species?\n",
    "# [ ] maybe create a list of dictionaries?\n",
    "#######################\n",
    "\n",
    "for xInd, x in enumerate(alignment_string_list[1]):    \n",
    "    if x in nuc_list:\n",
    "        remap_dict[counter] = xInd\n",
    "        counter += 1\n",
    "# Check\n",
    "# print(remap_dict)\n",
    "\n",
    "# Now find the value from the key??? Find the alignment posititon from raw position\n",
    "\n",
    "align_pos = [remap_dict[x] for x in position_list_pos]\n",
    "\n",
    "# check\n",
    "print(align_pos)\n",
    "print(alignment_id[1])\n",
    "print(type(alignment_id[1]))"
   ]
  },
  {
   "cell_type": "code",
   "execution_count": 62,
   "metadata": {
    "collapsed": false
   },
   "outputs": [
    {
     "name": "stdout",
     "output_type": "stream",
     "text": [
      "   alignment_position  raw_position  raw_position_pos_only      score  \\\n",
      "0                 157           157                    157  10.457056   \n",
      "1                 154          -751                    154   8.946094   \n",
      "2                 307          -598                    307   6.417715   \n",
      "3                 455          -450                    455   9.909568   \n",
      "4                 567          -338                    567   9.909568   \n",
      "5                 675           675                    675  10.016483   \n",
      "6                 663          -242                    663   8.959556   \n",
      "7                 690           690                    690   6.349059   \n",
      "8                 846           -59                    846   6.380240   \n",
      "\n",
      "                            species strand_direction  \n",
      "0  ludwig_eve-striped-2||MEMB002A|+         positive  \n",
      "1  ludwig_eve-striped-2||MEMB002A|+         negative  \n",
      "2  ludwig_eve-striped-2||MEMB002A|+         negative  \n",
      "3  ludwig_eve-striped-2||MEMB002A|+         negative  \n",
      "4  ludwig_eve-striped-2||MEMB002A|+         negative  \n",
      "5  ludwig_eve-striped-2||MEMB002A|+         positive  \n",
      "6  ludwig_eve-striped-2||MEMB002A|+         negative  \n",
      "7  ludwig_eve-striped-2||MEMB002A|+         positive  \n",
      "8  ludwig_eve-striped-2||MEMB002A|+         negative  \n"
     ]
    }
   ],
   "source": [
    "# Make dataframe that has everything\n",
    "pos_df = pd.DataFrame(\n",
    "    {'raw_position': position_list,\n",
    "     'raw_position_pos_only': position_list_pos,\n",
    "     'alignment_position':position_list_pos,\n",
    "     'strand_direction': strand,\n",
    "     'score': score_list,\n",
    "     'species': alignment_id[1]\n",
    "    })\n",
    "\n",
    "#############\n",
    "# [ ] this needs to be a value for species!!\n",
    "#     like pos_df = alignment_id[1]\n",
    "######\n",
    "\n",
    "#pos_df['species'] = alignment_id[1]\n",
    "print(pos_df)"
   ]
  },
  {
   "cell_type": "code",
   "execution_count": null,
   "metadata": {
    "collapsed": true
   },
   "outputs": [],
   "source": []
  }
 ],
 "metadata": {
  "kernelspec": {
   "display_name": "Python 2",
   "language": "python",
   "name": "python2"
  },
  "language_info": {
   "codemirror_mode": {
    "name": "ipython",
    "version": 2
   },
   "file_extension": ".py",
   "mimetype": "text/x-python",
   "name": "python",
   "nbconvert_exporter": "python",
   "pygments_lexer": "ipython2",
   "version": "2.7.13"
  }
 },
 "nbformat": 4,
 "nbformat_minor": 0
}
