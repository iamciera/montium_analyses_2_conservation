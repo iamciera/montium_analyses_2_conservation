{
 "cells": [
  {
   "cell_type": "markdown",
   "metadata": {},
   "source": [
    "# Transforming the .fm matrices "
   ]
  },
  {
   "cell_type": "markdown",
   "metadata": {},
   "source": [
    "The purpose of this script is to convert all the .fm matrices from their vertical layout to horizontal, so that I can use the bio.motifs package. Ideally I wouldn't have to write out the file, but I couldn't get bio.motifs to enter a motif item with anything but the read in file function. "
   ]
  },
  {
   "cell_type": "code",
   "execution_count": 1,
   "metadata": {
    "collapsed": false
   },
   "outputs": [
    {
     "name": "stdout",
     "output_type": "stream",
     "text": [
      "//anaconda/envs/ipykernel_py3/bin/python\n"
     ]
    }
   ],
   "source": [
    "from Bio import motifs\n",
    "from Bio import SeqIO \n",
    "from Bio.Seq import Seq\n",
    "import pandas as pd\n",
    "import os, sys\n",
    "\n",
    "print(sys.executable)"
   ]
  },
  {
   "cell_type": "code",
   "execution_count": 18,
   "metadata": {
    "collapsed": false
   },
   "outputs": [],
   "source": [
    "## Test Code\n",
    "## Read in\n",
    "#bcd = pd.read_csv('../data/PWM/fm/bcd_cell2008.fm', sep = '\\t', header = None)\n",
    "#bcd\n",
    "\n",
    "## Transpose\n",
    "#bcdT = bcd.transpose()\n",
    "#bcdT\n",
    "\n",
    "## Read Out\n",
    "#bcdT.to_csv(\"../testing\", sep = '\\t', header = None, index = False)"
   ]
  },
  {
   "cell_type": "markdown",
   "metadata": {},
   "source": [
    "Now I need to loop above and make loop that reads in all the files, transposes them, and then prints them out into new directory.  "
   ]
  },
  {
   "cell_type": "code",
   "execution_count": 25,
   "metadata": {
    "collapsed": false
   },
   "outputs": [],
   "source": [
    "path = \"../data/PWM/fm/\"\n",
    "newpath = \"../data/PWM/transpose_fm/\"\n",
    "\n",
    "for fn in os.listdir(path):\n",
    "    file = os.path.join(path, fn)\n",
    "    if os.path.isfile(file):\n",
    "        df = pd.read_csv(file, sep = '\\t', header = None)\n",
    "        df = df.transpose()\n",
    "        df.to_csv(os.path.join(newpath, fn), sep = '\\t', header = None, index = False)\n",
    "        "
   ]
  }
 ],
 "metadata": {
  "kernelspec": {
   "display_name": "Python 3",
   "language": "python",
   "name": "python3"
  },
  "language_info": {
   "codemirror_mode": {
    "name": "ipython",
    "version": 3
   },
   "file_extension": ".py",
   "mimetype": "text/x-python",
   "name": "python",
   "nbconvert_exporter": "python",
   "pygments_lexer": "ipython3",
   "version": "3.6.0"
  }
 },
 "nbformat": 4,
 "nbformat_minor": 0
}
