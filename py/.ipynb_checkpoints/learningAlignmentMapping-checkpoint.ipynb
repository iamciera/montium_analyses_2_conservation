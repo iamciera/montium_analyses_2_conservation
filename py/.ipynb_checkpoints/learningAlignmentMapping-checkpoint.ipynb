{
 "cells": [
  {
   "cell_type": "markdown",
   "metadata": {},
   "source": [
    "# Mapping TFBS to alignments\n",
    "\n",
    "## Dictionary postions with an alignment\n",
    "\n",
    "Me and Bronski's conversation on how to do this\n",
    "\n",
    "**Me**: Hey! I want to map nucleotide sequence position after an alignment.  I know you have done this before. So I would rather not reinvent the wheel. You did a dictionary in python, but how? Can I see your script? If this feature is embedded in a larger program it might be easier to just explain your strategy.\n",
    "\n",
    "**Bronski**: So the strategy is to loop through an aligned sequence and create a dictionary where the keys are the original indices and the values are the indices in the alignment.\n",
    "\n",
    "Here’s a simple example:"
   ]
  },
  {
   "cell_type": "code",
   "execution_count": 10,
   "metadata": {
    "collapsed": false
   },
   "outputs": [
    {
     "name": "stdout",
     "output_type": "stream",
     "text": [
      "{0: 0, 1: 1, 2: 2, 3: 6, 4: 7, 5: 8, 6: 9, 7: 10, 8: 11, 9: 12}\n"
     ]
    }
   ],
   "source": [
    "aligned_seq = 'AGC---TTCATCA'\n",
    "remap_dict = {}\n",
    "nuc_list = ['A', 'a', 'G', 'g', 'C', 'c', 'T', 't', 'N', 'n']\n",
    "counter = 0\n",
    "for xInd, x in enumerate(aligned_seq):    \n",
    "    if x in nuc_list:\n",
    "        remap_dict[counter] = xInd\n",
    "        counter += 1\n",
    "        \n",
    "print(remap_dict)"
   ]
  },
  {
   "cell_type": "markdown",
   "metadata": {},
   "source": [
    "## My Attempt with ES2\n",
    "\n"
   ]
  },
  {
   "cell_type": "markdown",
   "metadata": {},
   "source": [
    "**Breakdown of what I have to do**:\n",
    "\n",
    "1. Read in alignment file.\n",
    "2. seperate each sequence into it's own sequence\n",
    "    - make dictionary for each sequence\n",
    "    - print out sequence?\n",
    "        - run TFBS finder for each sequence\n",
    "3. Make vector of each sequence that says presence or absence at each position.\n",
    "4. Figure out a way to visualize this.\n",
    "   \n",
    "\n"
   ]
  },
  {
   "cell_type": "markdown",
   "metadata": {},
   "source": [
    "### Read in Alignment File\n",
    "\n",
    "Use `Bio.AlignIO.read()`\n",
    "- The first argument is a handle to read the data from, typically an open file (see Section 24.1), or a filename.\n",
    "- The second argument is a lower case string specifying the alignment format. As in Bio.SeqIO we don’t try and guess the file format for you! See [http://biopython.org/wiki/AlignIO](http://biopython.org/wiki/AlignIO) for a full listing of supported formats."
   ]
  },
  {
   "cell_type": "code",
   "execution_count": 20,
   "metadata": {
    "collapsed": false
   },
   "outputs": [
    {
     "name": "stdout",
     "output_type": "stream",
     "text": [
      "SingleLetterAlphabet() alignment with 9 rows and 1136 columns\n",
      "ATATAACCCAATAATTTTAACTAACTCGCAGGA---GCAAGAAG...C-- ludwig_eve-striped-2||MEMB002F|+\n",
      "ATATAACCCAATAATTTGAACTAACTCGCAGGA---GCAAGAAG...CTG ludwig_eve-striped-2||MEMB002A|+\n",
      "ATATAACCCAATAATTTTAACTAACTCGCAGGA---GCAAGAAG...CTG ludwig_eve-striped-2||MEMB003C|-\n",
      "ATATAACCCAATAATTTTAACTAACTCGCAGGA---GCAAGAAG...CTG ludwig_eve-striped-2||MEMB002C|+\n",
      "ATATAACCCAATAATTTTAACTAACTCGCAGGAGCGGCAAGAAG...C-- ludwig_eve-striped-2||MEMB003B|+\n",
      "ATATAACCCAATAATTTTAACTAACTCGCAGGAGCGGCAAGAAG...C-- ludwig_eve-striped-2||MEMB003F|+\n",
      "ATATAACCCAATAATTTTAACTAACTCGCAGGAGCGGCCAGAAG...C-- ludwig_eve-striped-2||MEMB003D|-\n",
      "ATATAACCCAATAATTTGAACTAACTCGCAGGAGCGGCAAGAAG...CTA ludwig_eve-striped-2||MEMB002D|+\n",
      "ATATAACCCAATAATTTTAACTAACTCGCAGGAGCGGCAAGAAG...CTA ludwig_eve-striped-2||MEMB002E|-\n"
     ]
    }
   ],
   "source": [
    "from Bio import AlignIO\n",
    "alignment = AlignIO.read(\"../data/fasta/output_ludwig_eve-striped-2.fa\", \"fasta\")\n",
    "print(alignment)"
   ]
  },
  {
   "cell_type": "code",
   "execution_count": 12,
   "metadata": {
    "collapsed": false
   },
   "outputs": [
    {
     "name": "stdout",
     "output_type": "stream",
     "text": [
      "ludwig_eve-striped-2||MEMB002F|+\n",
      "ludwig_eve-striped-2||MEMB002A|+\n",
      "ludwig_eve-striped-2||MEMB003C|-\n",
      "ludwig_eve-striped-2||MEMB002C|+\n",
      "ludwig_eve-striped-2||MEMB003B|+\n",
      "ludwig_eve-striped-2||MEMB003F|+\n",
      "ludwig_eve-striped-2||MEMB003D|-\n",
      "ludwig_eve-striped-2||MEMB002D|+\n",
      "ludwig_eve-striped-2||MEMB002E|-\n"
     ]
    }
   ],
   "source": [
    "for record in alignment:\n",
    "    print(record.id)"
   ]
  },
  {
   "cell_type": "markdown",
   "metadata": {},
   "source": [
    "Buuuuuuuut, we don't really need the alignment as an alignment per se. But it is important for viewing and testing later.  We need to have each seperate sequence, So I am going to use SeqIO.parse. "
   ]
  },
  {
   "cell_type": "code",
   "execution_count": 13,
   "metadata": {
    "collapsed": false
   },
   "outputs": [],
   "source": [
    "from Bio import SeqIO\n",
    "\n",
    "# read in alignment as a list of sequences\n",
    "records = list(SeqIO.parse(\"../data/fasta/output_ludwig_eve-striped-2.fa\", \"fasta\")) "
   ]
  },
  {
   "cell_type": "code",
   "execution_count": 14,
   "metadata": {
    "collapsed": false
   },
   "outputs": [
    {
     "name": "stdout",
     "output_type": "stream",
     "text": [
      "<class 'Bio.SeqRecord.SeqRecord'>\n"
     ]
    }
   ],
   "source": [
    "# Testing with the first sequence\n",
    "seqTest = records[0]\n",
    "#print(seqTest.seq)\n",
    "print(type(seqTest))\n"
   ]
  },
  {
   "cell_type": "code",
   "execution_count": 15,
   "metadata": {
    "collapsed": false
   },
   "outputs": [
    {
     "name": "stdout",
     "output_type": "stream",
     "text": [
      "<type 'str'>\n"
     ]
    }
   ],
   "source": [
    "# Turn just the sequence into a string instead of fasta sequence\n",
    "aligned_seq = str(seqTest.seq)\n",
    "print(type(aligned_seq)) # check"
   ]
  },
  {
   "cell_type": "markdown",
   "metadata": {},
   "source": [
    "**Notes on loop**\n",
    "\n",
    "- `enumerate()`: prints out numbers counting up\n",
    "- `xInd` is the keys that were enumerated.  \n",
    "- then the `remap_dict[counter] = xInd` makes the dictionary\n",
    "x is the nucleotide"
   ]
  },
  {
   "cell_type": "code",
   "execution_count": 33,
   "metadata": {
    "collapsed": false
   },
   "outputs": [
    {
     "name": "stdout",
     "output_type": "stream",
     "text": [
      "905\n",
      "43\n",
      "<type 'int'>\n"
     ]
    }
   ],
   "source": [
    "remap_dict = {}\n",
    "nuc_list = ['A', 'a', 'G', 'g', 'C', 'c', 'T', 't', 'N', 'n']\n",
    "counter = 0\n",
    "\n",
    "for xInd, x in enumerate(aligned_seq):    \n",
    "    if x in nuc_list:\n",
    "        remap_dict[counter] = xInd\n",
    "        counter += 1\n",
    "        \n",
    "#checking dictionary created\n",
    "print(len(remap_dict)) # should be length of alignment\n",
    "print(remap_dict[40]) #should print the value of the number key\n",
    "print(type(remap_dict[40])) #Check data type"
   ]
  },
  {
   "cell_type": "markdown",
   "metadata": {},
   "source": [
    "## Putting the Remap together with TFBS \n",
    "\n",
    "The last part is to create the vector that should span the entire alignment printing 1 if the position has a bicoid site or 0 if not.  "
   ]
  },
  {
   "cell_type": "code",
   "execution_count": 52,
   "metadata": {
    "collapsed": false
   },
   "outputs": [
    {
     "ename": "TypeError",
     "evalue": "unsupported operand type(s) for -: 'str' and 'int'",
     "output_type": "error",
     "traceback": [
      "\u001b[0;31m---------------------------------------------------------------------------\u001b[0m",
      "\u001b[0;31mTypeError\u001b[0m                                 Traceback (most recent call last)",
      "\u001b[0;32m<ipython-input-52-138c293461b0>\u001b[0m in \u001b[0;36m<module>\u001b[0;34m()\u001b[0m\n\u001b[1;32m     13\u001b[0m \u001b[0;32mfor\u001b[0m \u001b[0mi\u001b[0m \u001b[0;32min\u001b[0m \u001b[0mTFBS\u001b[0m\u001b[0;34m:\u001b[0m\u001b[0;34m\u001b[0m\u001b[0m\n\u001b[1;32m     14\u001b[0m     \u001b[0;32mif\u001b[0m \u001b[0mi\u001b[0m \u001b[0;34m<\u001b[0m \u001b[0;36m0\u001b[0m\u001b[0;34m:\u001b[0m\u001b[0;34m\u001b[0m\u001b[0m\n\u001b[0;32m---> 15\u001b[0;31m         \u001b[0mlen\u001b[0m\u001b[0;34m(\u001b[0m\u001b[0maligned_seq\u001b[0m \u001b[0;34m-\u001b[0m \u001b[0mi\u001b[0m\u001b[0;34m)\u001b[0m\u001b[0;34m\u001b[0m\u001b[0m\n\u001b[0m\u001b[1;32m     16\u001b[0m     \u001b[0;32melse\u001b[0m\u001b[0;34m:\u001b[0m\u001b[0;34m\u001b[0m\u001b[0m\n\u001b[1;32m     17\u001b[0m         \u001b[0mi\u001b[0m\u001b[0;34m\u001b[0m\u001b[0m\n",
      "\u001b[0;31mTypeError\u001b[0m: unsupported operand type(s) for -: 'str' and 'int'"
     ]
    }
   ],
   "source": [
    "## Attempt at vector\n",
    "\n",
    "bcdSites = [0] * len(aligned_seq)\n",
    "\n",
    "#from loctaingTFB.ipy\n",
    "TFBS = [10, 102, 137, -741, -680, -595, 309, -497, -485, 429, 453, 459, 465, -376, -347, -339, -308, 593, 600, -289, 613, 623, -240, 679, -128, -77, 825, 826, 886]\n",
    "\n",
    "#Need to make positive.\n",
    "TFBS_pos = [abs(k) for k in TFBS]\n",
    "\n",
    "# Or do I need to subtract from the end position...\n",
    "# something like this\n",
    "for i in TFBS:\n",
    "    if i < 0:\n",
    "        len(aligned_seq - i)\n",
    "    else: \n",
    "        i\n",
    "\n",
    "\n",
    "print(TFBS)\n",
    "    "
   ]
  },
  {
   "cell_type": "code",
   "execution_count": null,
   "metadata": {
    "collapsed": true
   },
   "outputs": [],
   "source": []
  },
  {
   "cell_type": "code",
   "execution_count": null,
   "metadata": {
    "collapsed": true
   },
   "outputs": [],
   "source": []
  }
 ],
 "metadata": {
  "kernelspec": {
   "display_name": "Python 2",
   "language": "python",
   "name": "python2"
  },
  "language_info": {
   "codemirror_mode": {
    "name": "ipython",
    "version": 2
   },
   "file_extension": ".py",
   "mimetype": "text/x-python",
   "name": "python",
   "nbconvert_exporter": "python",
   "pygments_lexer": "ipython2",
   "version": "2.7.13"
  }
 },
 "nbformat": 4,
 "nbformat_minor": 0
}
