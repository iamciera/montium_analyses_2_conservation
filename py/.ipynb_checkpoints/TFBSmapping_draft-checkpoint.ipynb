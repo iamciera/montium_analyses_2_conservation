{
 "cells": [
  {
   "cell_type": "markdown",
   "metadata": {},
   "source": [
    "## Bring in Alignment for mapping\n",
    "\n",
    "This program will map TFBS using the Biopython's motif package.\n",
    "\n",
    "**Inputs**: \n",
    "1. before alignment (fasta) \n",
    "2. after alignment (fasta) \n",
    "3. TFBS Position Frequency Matrix."
   ]
  },
  {
   "cell_type": "code",
   "execution_count": 1,
   "metadata": {
    "collapsed": false
   },
   "outputs": [],
   "source": [
    "from Bio import motifs\n",
    "from Bio import SeqIO \n",
    "from Bio.Seq import Seq\n",
    "from Bio.Alphabet import IUPAC, generic_dna, generic_protein\n",
    "import pandas as pd\n",
    "import numpy as np\n",
    "import os, sys"
   ]
  },
  {
   "cell_type": "code",
   "execution_count": 18,
   "metadata": {
    "collapsed": false
   },
   "outputs": [
    {
     "name": "stdout",
     "output_type": "stream",
     "text": [
      "Found 9 records in alignment file\n",
      "['align_seq', 'id']\n",
      "<class 'pandas.core.frame.DataFrame'>\n"
     ]
    }
   ],
   "source": [
    "## Alignment Input\n",
    "\n",
    "# read in alignment as a list of sequences\n",
    "alignment = list(SeqIO.parse(\"../data/fasta/output_ludwig_eve-striped-2.fa\", \"fasta\"))\n",
    "\n",
    "# Check\n",
    "print(\"Found %i records in alignment file\" % len(alignment))\n",
    "\n",
    "## Turn a sequences into a list of strings\n",
    "alignment_string_list = []\n",
    "for seq in alignment:\n",
    "    alignment_string_list.append(str(seq.seq))\n",
    "\n",
    "alignment_id = []\n",
    "for seq in alignment:\n",
    "    alignment_id.append(str(seq.id))\n",
    "\n",
    "## Do I even need turn int a dataframe?\n",
    "alignment_df = pd.DataFrame(\n",
    "    {'id': alignment_id,\n",
    "     'align_seq': alignment_string_list\n",
    "    })\n",
    "\n",
    "\n",
    "## Check\n",
    "print list(alignment_df)\n",
    "print type(alignment_df)\n",
    "\n",
    "##############################\n",
    "# [x] I feel weird going ahead with out seq ids. Maybe at this point turn into a dictionary?\n",
    "# [x] No, what I really need is to turn this into a dataframe\n",
    "# [ ] Now I need to make sure I can use the seqences to continue on. Since I turned it into a dataframe."
   ]
  },
  {
   "cell_type": "code",
   "execution_count": 3,
   "metadata": {
    "collapsed": false
   },
   "outputs": [
    {
     "name": "stdout",
     "output_type": "stream",
     "text": [
      "Found 9 records in raw sequence file\n"
     ]
    }
   ],
   "source": [
    "## Raw Sequences Input\n",
    "\n",
    "raw_sequences = list(SeqIO.parse(\"../data/fasta/ludwig_eve-striped-2.fasta\", \"fasta\"))\n",
    "print(\"Found %i records in raw sequence file\" % len(raw_sequences))\n",
    "\n",
    "# make all IUPAC.IUPACUnambiguousDNA()\n",
    "raw_sequences_2 = []\n",
    "\n",
    "for seq in raw_sequences:\n",
    "    raw_sequences_2.append(Seq(str(seq.seq), IUPAC.IUPACUnambiguousDNA()))\n",
    "\n",
    "# Check\n",
    "\n",
    "#print raw_sequences_2\n",
    "#print type(raw_sequences_2)\n",
    "\n",
    "# Check\n",
    "#for seq in raw_sequences_2:\n",
    "    #print(seq.alphabet)\n",
    "    #print(type(seq))"
   ]
  },
  {
   "cell_type": "code",
   "execution_count": 4,
   "metadata": {
    "collapsed": false
   },
   "outputs": [
    {
     "name": "stdout",
     "output_type": "stream",
     "text": [
      "        0      1      2      3      4      5      6      7\n",
      "A:   0.19   0.17   0.88   0.92   0.04   0.04   0.06   0.12\n",
      "C:   0.37   0.08   0.04   0.02   0.02   0.87   0.52   0.25\n",
      "G:   0.08   0.04   0.04   0.04   0.33   0.02   0.08   0.37\n",
      "T:   0.37   0.71   0.04   0.02   0.62   0.08   0.35   0.27\n",
      "\n",
      "IUPACUnambiguousDNA()\n",
      "<type 'list'>\n"
     ]
    }
   ],
   "source": [
    "## Motif Input\n",
    "\n",
    "bcd = motifs.read(open(\"../data/PWM/transpose_fm/bcd_FlyReg.fm\"),\"pfm\")\n",
    "print(bcd.counts)\n",
    "pwm = bcd.counts.normalize(pseudocounts=0.0)\n",
    "pssm = pwm.log_odds()\n",
    "print(pssm.alphabet)\n",
    "print(type(raw_sequences_2))"
   ]
  },
  {
   "cell_type": "code",
   "execution_count": 6,
   "metadata": {
    "collapsed": false
   },
   "outputs": [
    {
     "name": "stdout",
     "output_type": "stream",
     "text": [
      "Patser Threshold 3.262\n",
      "nothing\n"
     ]
    }
   ],
   "source": [
    "## Searching the Sequences\n",
    "pssm_list = [ ]\n",
    "for seq in raw_sequences_2:\n",
    "    pssm_list.append(pssm.calculate(seq))\n",
    "\n",
    "## Check\n",
    "#print(pssm_list)\n",
    "#for seq in pssm_list:\n",
    "    #print(\"Background: %f\" % bcd.pssm.mean(bcd.background))\n",
    "    \n",
    "################################\n",
    "# [ ] Its the same background for all the sequences? That weird.  Right?\n",
    "################################\n",
    "\n",
    "# Patser Threshold\n",
    "\n",
    "distribution = pssm.distribution(background=bcd.background, precision=10**4)\n",
    "threshold = distribution.threshold_patser()\n",
    "\n",
    "print(\"Patser Threshold %5.3f\" % threshold) #automatically calulate Paster threshold. \n",
    "print(\"nothing\")"
   ]
  },
  {
   "cell_type": "code",
   "execution_count": 27,
   "metadata": {
    "collapsed": false
   },
   "outputs": [],
   "source": [
    "position_list = []\n",
    "score_list = []\n",
    "\n",
    "###################################\n",
    "# [ ] Need to reiterate over raw_sequences_2\n",
    "# [ ] When reiterating over raw_sequences_2, attach id\n",
    "##################################\n",
    "\n",
    "for position, score in pssm.search(raw_sequences_2[0], threshold=6):\n",
    "    position_list.append(position)\n",
    "    score_list.append(score)\n",
    "\n",
    "# Change position to positive\n",
    "position_list_pos = []\n",
    "for x in position_list:\n",
    "    if x < 0:\n",
    "       position_list_pos.append(905 + x)\n",
    "    else:\n",
    "       position_list_pos.append(x)\n",
    "#print(position_list_pos)\n",
    "\n",
    "strand = []\n",
    "for x in position_list:\n",
    "    if x < 0:\n",
    "       strand.append(\"negative\")\n",
    "    else:\n",
    "       strand.append(\"positive\")"
   ]
  },
  {
   "cell_type": "code",
   "execution_count": 30,
   "metadata": {
    "collapsed": false
   },
   "outputs": [
    {
     "name": "stdout",
     "output_type": "stream",
     "text": [
      "[224, 221, 403, 596, 712, 881, 869, 903, 1114]\n"
     ]
    }
   ],
   "source": [
    "## get alignment position using `alignment_string_list`\n",
    "\n",
    "remap_dict = {}\n",
    "nuc_list = ['A', 'a', 'G', 'g', 'C', 'c', 'T', 't', 'N', 'n']\n",
    "counter = 0\n",
    "\n",
    "#######################\n",
    "# [ ] Reiterate through all species?\n",
    "# [ ] maybe create a list of dictionaries?\n",
    "#######################\n",
    "\n",
    "\n",
    "for xInd, x in enumerate(alignment_string_list[1]):    \n",
    "    if x in nuc_list:\n",
    "        remap_dict[counter] = xInd\n",
    "        counter += 1\n",
    "# Check\n",
    "# print(remap_dict)\n",
    "\n",
    "# Now find the value from the key??? Find the alignment posititon from raw position\n",
    "\n",
    "align_pos = [remap_dict[x] for x in position_list_pos]\n",
    "\n",
    "# check\n",
    "print(align_pos)"
   ]
  },
  {
   "cell_type": "code",
   "execution_count": 15,
   "metadata": {
    "collapsed": false
   },
   "outputs": [
    {
     "name": "stdout",
     "output_type": "stream",
     "text": [
      "   raw_position_pos_only  raw_positition      score strand_direction\n",
      "0                    145             145  10.457056         positive\n",
      "1                    165            -740   8.946094         negative\n",
      "2                    457            -448   9.909568         negative\n",
      "3                    548            -357   9.909568         negative\n",
      "4                    641             641  10.016483         positive\n",
      "5                    823             -82   6.380240         negative\n"
     ]
    }
   ],
   "source": [
    "# Make dataframe that has everything\n",
    "pos_df = pd.DataFrame(\n",
    "    {'raw_positition': position_list,\n",
    "     'raw_position_pos_only': position_list_pos,\n",
    "     'alignment_pos':position_list_pos,\n",
    "     'strand_direction': strand,\n",
    "     'score': score_list\n",
    "    })\n",
    "\n",
    "print(pos_df)"
   ]
  },
  {
   "cell_type": "code",
   "execution_count": null,
   "metadata": {
    "collapsed": true
   },
   "outputs": [],
   "source": []
  }
 ],
 "metadata": {
  "kernelspec": {
   "display_name": "Python 2",
   "language": "python",
   "name": "python2"
  },
  "language_info": {
   "codemirror_mode": {
    "name": "ipython",
    "version": 2
   },
   "file_extension": ".py",
   "mimetype": "text/x-python",
   "name": "python",
   "nbconvert_exporter": "python",
   "pygments_lexer": "ipython2",
   "version": "2.7.13"
  }
 },
 "nbformat": 4,
 "nbformat_minor": 0
}
