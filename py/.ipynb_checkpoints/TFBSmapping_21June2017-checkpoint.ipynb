{
 "cells": [
  {
   "cell_type": "markdown",
   "metadata": {},
   "source": [
    "## Bring in Alignment for mapping\n",
    "\n",
    "This program will map TFBS using the Biopython's motif package.\n",
    "\n",
    "**Inputs**: \n",
    "1. before alignment (fasta) \n",
    "2. after alignment (fasta) \n",
    "3. TFBS Position Frequency Matrix."
   ]
  },
  {
   "cell_type": "code",
   "execution_count": 5,
   "metadata": {
    "collapsed": false
   },
   "outputs": [],
   "source": [
    "from Bio import motifs\n",
    "from Bio import SeqIO \n",
    "from Bio.Seq import Seq\n",
    "from Bio.Alphabet import IUPAC, generic_dna, generic_protein\n",
    "import re\n",
    "from collections import defaultdict\n",
    "import pandas as pd\n",
    "import numpy as np\n",
    "import os, sys"
   ]
  },
  {
   "cell_type": "code",
   "execution_count": 6,
   "metadata": {
    "collapsed": false
   },
   "outputs": [
    {
     "name": "stdout",
     "output_type": "stream",
     "text": [
      "Found 9 records in alignment file\n",
      "1136\n",
      "1136\n",
      "1136\n",
      "1136\n",
      "1136\n",
      "1136\n",
      "1136\n",
      "1136\n",
      "1136\n"
     ]
    }
   ],
   "source": [
    "## Input 1 - Alignment Input \n",
    "\n",
    "## read in alignment as a list of sequences\n",
    "alignment = list(SeqIO.parse(\"../data/fasta/output_ludwig_eve-striped-2.fa\", \"fasta\"))\n",
    "\n",
    "## Get alignment ID list for later\n",
    "alignment_id = []\n",
    "for seq in alignment:\n",
    "    alignment_id.append(str(seq.id))\n",
    "    \n",
    "## Check\n",
    "print(\"Found %i records in alignment file\" % len(alignment))\n",
    "\n",
    "## Sequence Length should be the same for all alignment sequences\n",
    "for seq in alignment:\n",
    "    print len(seq)\n",
    "\n",
    "## Turn sequences into a list of strings\n",
    "## Note: They are no longer bio.seq.seq objects\n",
    "alignment_string_list = []\n",
    "for seq in alignment:\n",
    "    alignment_string_list.append(str(seq.seq))\n"
   ]
  },
  {
   "cell_type": "code",
   "execution_count": 7,
   "metadata": {
    "collapsed": false
   },
   "outputs": [
    {
     "name": "stdout",
     "output_type": "stream",
     "text": [
      "Found 9 records in raw sequence file\n",
      "928\n",
      "875\n",
      "898\n",
      "868\n",
      "862\n",
      "913\n",
      "905\n",
      "909\n",
      "868\n"
     ]
    }
   ],
   "source": [
    "## Input 2 - Raw Sequences Input\n",
    "\n",
    "raw_sequences = list(SeqIO.parse(\"../data/fasta/ludwig_eve-striped-2.fasta\", \"fasta\"))\n",
    "print(\"Found %i records in raw sequence file\" % len(raw_sequences))\n",
    "\n",
    "## make all IUPAC.IUPACUnambiguousDNA()\n",
    "raw_sequences_2 = []\n",
    "\n",
    "for seq in raw_sequences:\n",
    "    raw_sequences_2.append(Seq(str(seq.seq), IUPAC.IUPACUnambiguousDNA()))\n",
    "    print len(seq)"
   ]
  },
  {
   "cell_type": "code",
   "execution_count": 8,
   "metadata": {
    "collapsed": false
   },
   "outputs": [
    {
     "name": "stdout",
     "output_type": "stream",
     "text": [
      "        0      1      2      3      4      5      6      7\n",
      "A:   0.19   0.17   0.88   0.92   0.04   0.04   0.06   0.12\n",
      "C:   0.37   0.08   0.04   0.02   0.02   0.87   0.52   0.25\n",
      "G:   0.08   0.04   0.04   0.04   0.33   0.02   0.08   0.37\n",
      "T:   0.37   0.71   0.04   0.02   0.62   0.08   0.35   0.27\n",
      "\n"
     ]
    }
   ],
   "source": [
    "## Input 3 - Motif Input\n",
    "## [ ] This is where I need to loop through all PWMs in a file\n",
    "\n",
    "bcd = motifs.read(open(\"../data/PWM/transpose_fm/bcd_FlyReg.fm\"),\"pfm\")\n",
    "print(bcd.counts)\n",
    "pwm = bcd.counts.normalize(pseudocounts=0.0)\n",
    "pssm = pwm.log_odds()"
   ]
  },
  {
   "cell_type": "code",
   "execution_count": 9,
   "metadata": {
    "collapsed": false
   },
   "outputs": [
    {
     "name": "stdout",
     "output_type": "stream",
     "text": [
      "921\n",
      "868\n",
      "891\n",
      "861\n",
      "855\n",
      "906\n",
      "898\n",
      "902\n",
      "861\n",
      "Patser Threshold is 3.262\n"
     ]
    }
   ],
   "source": [
    "## Searching the Motifs in Sequences\n",
    "## Returns a list of arrays with a score for each position\n",
    "\n",
    "## This give the score for each position\n",
    "## If you print the length you get the length of the sequence minus 8. \n",
    "\n",
    "## Forward stand\n",
    "\n",
    "pssm_list = [ ]\n",
    "for seq in raw_sequences_2:\n",
    "    pssm_list.append(pssm.calculate(seq))\n",
    "\n",
    "for seq in pssm_list:\n",
    "    print len(seq)\n",
    "    \n",
    "## Reverse strand\n",
    "## rpssm = pssm.reverse_complement()\n",
    "   \n",
    "## Approximate calculation of appropriate thresholds for motif finding \n",
    "## Patser Threshold\n",
    "## It selects such a threshold that the log(fpr)=-ic(M) \n",
    "## note: the actual patser software uses natural logarithms instead of log_2, so the numbers \n",
    "## are not directly comparable. \n",
    "\n",
    "distribution = pssm.distribution(background=bcd.background, precision=10**4)\n",
    "patser_threshold = distribution.threshold_patser()\n",
    "\n",
    "print(\"Patser Threshold is %5.3f\" % patser_threshold) # Calculates Paster threshold. "
   ]
  },
  {
   "cell_type": "code",
   "execution_count": 11,
   "metadata": {
    "collapsed": false
   },
   "outputs": [
    {
     "name": "stdout",
     "output_type": "stream",
     "text": [
      "     position      score  species\n",
      "0          10   5.013668        0\n",
      "1         157  10.457056        0\n",
      "2        -751   8.946094        0\n",
      "3        -684   5.243600        0\n",
      "4        -649   3.285077        0\n",
      "5        -616   3.594098        0\n",
      "6        -598   6.417715        0\n",
      "7         334   3.702168        0\n",
      "8         404   3.491528        0\n",
      "9         451   3.794091        0\n",
      "10       -450   9.909568        0\n",
      "11        481   4.094957        0\n",
      "12       -438   5.787577        0\n",
      "13        523   5.020957        0\n",
      "14       -385   4.736640        0\n",
      "15       -338   9.909568        0\n",
      "16        593   3.509995        0\n",
      "17        603   3.346478        0\n",
      "18       -296   4.374594        0\n",
      "19       -291   5.257062        0\n",
      "20       -281   4.983569        0\n",
      "21       -264   4.389700        0\n",
      "22        668   5.016483        0\n",
      "23        675  10.016483        0\n",
      "24       -242   8.959556        0\n",
      "25        690   6.349059        0\n",
      "26       -115   5.920559        0\n",
      "27        859   3.391992        0\n",
      "28        -59   6.380240        0\n",
      "29        873   5.612093        0\n",
      "..        ...        ...      ...\n",
      "204        89   4.894493        7\n",
      "205       169  10.457056        7\n",
      "206      -720   8.946094        7\n",
      "207      -656   5.243600        7\n",
      "208      -621   3.391992        7\n",
      "209      -589   3.594098        7\n",
      "210      -571   6.417715        7\n",
      "211       342   3.702168        7\n",
      "212      -542   4.431520        7\n",
      "213       392   3.491528        7\n",
      "214       431   3.794091        7\n",
      "215      -449   9.909568        7\n",
      "216       463   4.094957        7\n",
      "217      -437   5.787577        7\n",
      "218       506   8.959556        7\n",
      "219      -382   4.736640        7\n",
      "220      -335   9.909568        7\n",
      "221      -307   3.374593        7\n",
      "222      -268   4.389700        7\n",
      "223       645   5.016483        7\n",
      "224       651   9.909568        7\n",
      "225      -247   8.959556        7\n",
      "226       666   8.997031        7\n",
      "227      -222   3.285077        7\n",
      "228      -198   3.391992        7\n",
      "229      -115   5.920559        7\n",
      "230       -56   6.380240        7\n",
      "231       857   5.505177        7\n",
      "232       858   3.285077        7\n",
      "233       899   4.422532        7\n",
      "\n",
      "[234 rows x 3 columns]\n"
     ]
    }
   ],
   "source": [
    "###################################\n",
    "## [x] Need to reiterate over raw_sequences_2\n",
    "## [x] When reiterating over raw_sequences_2, attach id\n",
    "#################################\n",
    "\n",
    "position_list = []\n",
    "for i in range(0,8):\n",
    "    for position, score in pssm.search(raw_sequences_2[i], threshold = patser_threshold):\n",
    "        positions = {'score':score, 'position':position, 'species': i}\n",
    "        position_list.append(positions)\n",
    "        \n",
    "position_list = pd.DataFrame(position_list)\n",
    "\n",
    "print position_list\n",
    "\n",
    "## Change position to positive\n",
    "position_list_pos = []\n",
    "for x in position_list:\n",
    "    if x < 0:\n",
    "       position_list_pos.append(905 + x)\n",
    "    else:\n",
    "       position_list_pos.append(x)\n",
    "    \n",
    "## Check   \n",
    "## print(position_list_pos)\n",
    "\n",
    "\n",
    "strand = []\n",
    "\n",
    "for x in position_list:\n",
    "    if x < 0:\n",
    "       strand.append(\"negative\")\n",
    "    else:\n",
    "       strand.append(\"positive\")"
   ]
  },
  {
   "cell_type": "code",
   "execution_count": null,
   "metadata": {
    "collapsed": false
   },
   "outputs": [],
   "source": [
    "## get alignment position using `alignment_string_list`\n",
    "\n",
    "remap_dict = {}\n",
    "nuc_list = ['A', 'a', 'G', 'g', 'C', 'c', 'T', 't', 'N', 'n']\n",
    "counter = 0\n",
    "\n",
    "#######################\n",
    "## [ ] Reiterate through all species?\n",
    "## [ ] maybe create a list of dictionaries?\n",
    "#######################\n",
    "\n",
    "for xInd, x in enumerate(alignment_string_list[1]):    \n",
    "    if x in nuc_list:\n",
    "        remap_dict[counter] = xInd\n",
    "        counter += 1\n",
    "## Check\n",
    "## print(remap_dict)\n",
    "\n",
    "## Now find the value from the key??? Find the alignment posititon from raw position\n",
    "align_pos = [remap_dict[x] for x in position_list_pos]\n",
    "\n",
    "## check\n",
    "print(align_pos)\n",
    "print(alignment_id[1])\n",
    "print(type(alignment_id[1]))"
   ]
  },
  {
   "cell_type": "code",
   "execution_count": 12,
   "metadata": {
    "collapsed": false
   },
   "outputs": [
    {
     "ename": "NameError",
     "evalue": "name 'score_list' is not defined",
     "output_type": "error",
     "traceback": [
      "\u001b[0;31m---------------------------------------------------------------------------\u001b[0m",
      "\u001b[0;31mNameError\u001b[0m                                 Traceback (most recent call last)",
      "\u001b[0;32m<ipython-input-12-d7ee116a141e>\u001b[0m in \u001b[0;36m<module>\u001b[0;34m()\u001b[0m\n\u001b[1;32m      5\u001b[0m      \u001b[0;34m'alignment_position'\u001b[0m\u001b[0;34m:\u001b[0m\u001b[0mposition_list_pos\u001b[0m\u001b[0;34m,\u001b[0m\u001b[0;34m\u001b[0m\u001b[0m\n\u001b[1;32m      6\u001b[0m      \u001b[0;34m'strand_direction'\u001b[0m\u001b[0;34m:\u001b[0m \u001b[0mstrand\u001b[0m\u001b[0;34m,\u001b[0m\u001b[0;34m\u001b[0m\u001b[0m\n\u001b[0;32m----> 7\u001b[0;31m      \u001b[0;34m'score'\u001b[0m\u001b[0;34m:\u001b[0m \u001b[0mscore_list\u001b[0m\u001b[0;34m,\u001b[0m\u001b[0;34m\u001b[0m\u001b[0m\n\u001b[0m\u001b[1;32m      8\u001b[0m      \u001b[0;34m'species'\u001b[0m\u001b[0;34m:\u001b[0m \u001b[0malignment_id\u001b[0m\u001b[0;34m[\u001b[0m\u001b[0;36m1\u001b[0m\u001b[0;34m]\u001b[0m\u001b[0;34m\u001b[0m\u001b[0m\n\u001b[1;32m      9\u001b[0m     })\n",
      "\u001b[0;31mNameError\u001b[0m: name 'score_list' is not defined"
     ]
    }
   ],
   "source": [
    "## Make dataframe that has everything\n",
    "pos_df = pd.DataFrame(\n",
    "    {'raw_position': position_list,\n",
    "     'raw_position_pos_only': position_list_pos,\n",
    "     'alignment_position':position_list_pos,\n",
    "     'strand_direction': strand,\n",
    "     'score': score_list,\n",
    "     'species': alignment_id[1]\n",
    "    })\n",
    "\n",
    "#############\n",
    "## [ ] this needs to be a value for species!!\n",
    "##     like pos_df = alignment_id[1]\n",
    "############\n",
    "\n",
    "## pos_df['species'] = alignment_id[1]\n",
    "print(pos_df)"
   ]
  },
  {
   "cell_type": "code",
   "execution_count": null,
   "metadata": {
    "collapsed": true
   },
   "outputs": [],
   "source": []
  }
 ],
 "metadata": {
  "kernelspec": {
   "display_name": "Python 2",
   "language": "python",
   "name": "python2"
  },
  "language_info": {
   "codemirror_mode": {
    "name": "ipython",
    "version": 2
   },
   "file_extension": ".py",
   "mimetype": "text/x-python",
   "name": "python",
   "nbconvert_exporter": "python",
   "pygments_lexer": "ipython2",
   "version": "2.7.13"
  }
 },
 "nbformat": 4,
 "nbformat_minor": 0
}
