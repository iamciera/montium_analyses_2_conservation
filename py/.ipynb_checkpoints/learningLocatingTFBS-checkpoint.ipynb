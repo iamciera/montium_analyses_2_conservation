{
 "cells": [
  {
   "cell_type": "markdown",
   "metadata": {},
   "source": [
    "# Locating TFBS\n",
    "\n",
    "I will be using Biopython's Bio.motifs package.  I cannot get the python 3 kernel working with the biopython package.  This needs to be fixed."
   ]
  },
  {
   "cell_type": "code",
   "execution_count": 61,
   "metadata": {
    "collapsed": false
   },
   "outputs": [],
   "source": [
    "from Bio import motifs\n",
    "from Bio import SeqIO \n",
    "from Bio.Seq import Seq\n",
    "from Bio.Alphabet import IUPAC, generic_dna, generic_protein\n",
    "import pandas as pd\n",
    "import os, sys\n"
   ]
  },
  {
   "cell_type": "markdown",
   "metadata": {},
   "source": [
    "## Sequences to Query\n",
    "\n",
    "Reading in ES2 sequences from 11 species to test. "
   ]
  },
  {
   "cell_type": "code",
   "execution_count": 62,
   "metadata": {
    "collapsed": false
   },
   "outputs": [
    {
     "name": "stdout",
     "output_type": "stream",
     "text": [
      "ludwig_eve-striped-2||dmel\n",
      "Seq('ATATAACCCAATAATTTGAAGTAACTGGCAGGAGCGAGGTATCCTTCCTGGTTA...CTA', SingleLetterAlphabet())\n",
      "898\n",
      "ludwig_eve-striped-2||memb002e|-\n",
      "Seq('atataacccaataattttaactaactcgcaggagcggcaagaaggatgcgttgt...cta', SingleLetterAlphabet())\n",
      "928\n",
      "ludwig_eve-striped-2||memb003c|-\n",
      "Seq('atataacccaataattttaactaactcgcaggagcaagaaggatgcggatgcgt...ctg', SingleLetterAlphabet())\n",
      "875\n",
      "ludwig_eve-striped-2||memb003d|-\n",
      "Seq('atataacccaataattttaactaactcgcaggagcggccagaaggatgcgttgt...cgc', SingleLetterAlphabet())\n",
      "898\n",
      "ludwig_eve-striped-2||memb002a|+\n",
      "Seq('atataacccaataatttgaactaactcgcaggagcaagaaggatgcggatgcgt...ctg', SingleLetterAlphabet())\n",
      "868\n",
      "ludwig_eve-striped-2||memb002c|+\n",
      "Seq('atataacccaataattttaactaactcgcaggagcaagaaggatgcggatgcgt...ctg', SingleLetterAlphabet())\n",
      "862\n",
      "ludwig_eve-striped-2||memb002d|+\n",
      "Seq('atataacccaataatttgaactaactcgcaggagcggcaagaaggatgcgttgt...cta', SingleLetterAlphabet())\n",
      "913\n",
      "ludwig_eve-striped-2||memb002f|+\n",
      "Seq('atataacccaataattttaactaactcgcaggagcaagaaggatgcgttgttac...cgc', SingleLetterAlphabet())\n",
      "905\n",
      "ludwig_eve-striped-2||memb003b|+\n",
      "Seq('atataacccaataattttaactaactcgcaggagcggcaagaaggatgcgtttg...ggc', SingleLetterAlphabet())\n",
      "909\n",
      "ludwig_eve-striped-2||memb003f|+\n",
      "Seq('atataacccaataattttaactaactcgcaggagcggcaagaaggatgcgttgt...ggc', SingleLetterAlphabet())\n",
      "868\n"
     ]
    }
   ],
   "source": [
    "for seq_record in SeqIO.parse(\"../data/fasta/ludwig_eve-striped-2.fasta\", \"fasta\"):\n",
    "    print(seq_record.id)\n",
    "    print(repr(seq_record.seq))\n",
    "    print(len(seq_record))"
   ]
  },
  {
   "cell_type": "code",
   "execution_count": 63,
   "metadata": {
    "collapsed": false,
    "scrolled": false
   },
   "outputs": [
    {
     "name": "stdout",
     "output_type": "stream",
     "text": [
      "ATATAACCCAATAATTTGAAGTAACTGGCAGGAGCGAGGTATCCTTCCTGGTTACCCGGTACTGCATAACAATGGAACCCGAACCGTAACTGGGACAGATCGAAAAGCTGGCCTGGTTTCTCGCTGTGTGTGCCGTGTTAATCCGTTTGCCATCAGCGAGATTATTAGTCAATTGCAGTTGCAGCGTTTCGCTTTCGTCCTCGTTTCACTTTCGAGTTAGACTTTATTGCAGCATCTTGAACAATCGTCGCAGTTTGGTAACACGCTGTGCCATACTTTCATTTAGACGGAATCGAGGGACCCTGGACTATAATCGCACAACGAGACCGGGTTGCGAAGTCAGGGCATTCCGCCGATCTAGCCATCGCCATCTTCTGCGGGCGTTTGTTTGTTTGTTTGCTGGGATTAGCCAAGGGCTTGACTTGGAATccaatcccgatccctagcccgatcccaatcccaatcccaatcccTTGTCCTTTTCATTAGAAAGTCATAAAAACACATAATAATGATGTCGAAGGGATTAGGGGCGCGCAGGTCCAGGCAACGCAATTAACGGACTAGCGAACTGGGTTATTTTTTTGCGCCGACTTAGCCCTGATCCGCGAGCTTAACCCGTTTTGAGCCGGGCAGCAGGTAGTTGTGGGTGGACCCCACGATTTTTTTGGCCAAACCTCCAAGCTAACTTGCGCAAGTGGCAAGTGGCCGGTTTGCTGGCCCAAAAGAGGAGGCACTATCCCGGTCCTGGTACAGTTGGTACGCTGGGAATGATTATATCATCATAATAAATGTTTTGCCCAACGAAACCGAAAACTTTTCAAATTAAGTCCCGGCAACTGGGTTCCCATTTTCCATTTTCCATGTTCTGCGGGCAGGGGCGGCCATTATCTCGCTA\n",
      "<class 'Bio.SeqRecord.SeqRecord'>\n"
     ]
    }
   ],
   "source": [
    "records = list(SeqIO.parse(\"../data/fasta/ludwig_eve-striped-2.fasta\", \"fasta\"))\n",
    "\n",
    "# Use only the first record\n",
    "seqTest = records[0]\n",
    "print(seqTest.seq)\n",
    "print(type(seqTest))"
   ]
  },
  {
   "cell_type": "code",
   "execution_count": 64,
   "metadata": {
    "collapsed": false
   },
   "outputs": [
    {
     "data": {
      "text/plain": [
       "'ludwig_eve-striped-2||dmel'"
      ]
     },
     "execution_count": 64,
     "metadata": {},
     "output_type": "execute_result"
    }
   ],
   "source": [
    "str(seqTest.id) "
   ]
  },
  {
   "cell_type": "code",
   "execution_count": 65,
   "metadata": {
    "collapsed": false
   },
   "outputs": [
    {
     "name": "stdout",
     "output_type": "stream",
     "text": [
      "ATATAACCCAATAATTTGAAGTAACTGGCAGGAGCGAGGTATCCTTCCTGGTTACCCGGTACTGCATAACAATGGAACCCGAACCGTAACTGGGACAGATCGAAAAGCTGGCCTGGTTTCTCGCTGTGTGTGCCGTGTTAATCCGTTTGCCATCAGCGAGATTATTAGTCAATTGCAGTTGCAGCGTTTCGCTTTCGTCCTCGTTTCACTTTCGAGTTAGACTTTATTGCAGCATCTTGAACAATCGTCGCAGTTTGGTAACACGCTGTGCCATACTTTCATTTAGACGGAATCGAGGGACCCTGGACTATAATCGCACAACGAGACCGGGTTGCGAAGTCAGGGCATTCCGCCGATCTAGCCATCGCCATCTTCTGCGGGCGTTTGTTTGTTTGTTTGCTGGGATTAGCCAAGGGCTTGACTTGGAATccaatcccgatccctagcccgatcccaatcccaatcccaatcccTTGTCCTTTTCATTAGAAAGTCATAAAAACACATAATAATGATGTCGAAGGGATTAGGGGCGCGCAGGTCCAGGCAACGCAATTAACGGACTAGCGAACTGGGTTATTTTTTTGCGCCGACTTAGCCCTGATCCGCGAGCTTAACCCGTTTTGAGCCGGGCAGCAGGTAGTTGTGGGTGGACCCCACGATTTTTTTGGCCAAACCTCCAAGCTAACTTGCGCAAGTGGCAAGTGGCCGGTTTGCTGGCCCAAAAGAGGAGGCACTATCCCGGTCCTGGTACAGTTGGTACGCTGGGAATGATTATATCATCATAATAAATGTTTTGCCCAACGAAACCGAAAACTTTTCAAATTAAGTCCCGGCAACTGGGTTCCCATTTTCCATTTTCCATGTTCTGCGGGCAGGGGCGGCCATTATCTCGCTA\n",
      "<class 'Bio.Seq.Seq'>\n"
     ]
    }
   ],
   "source": [
    "# Why can't I put this first? Because I am writing over?\n",
    "# Why do I have to put str in front of Seq\n",
    "seqTest = Seq(str(seqTest.seq), IUPAC.IUPACUnambiguousDNA())\n",
    "print(seqTest)\n",
    "print(type(seqTest))"
   ]
  },
  {
   "cell_type": "markdown",
   "metadata": {},
   "source": [
    "## Motifs"
   ]
  },
  {
   "cell_type": "code",
   "execution_count": 66,
   "metadata": {
    "collapsed": false
   },
   "outputs": [],
   "source": [
    "bcd = motifs.read(open(\"../data/PWM/transpose_fm/bcd_FlyReg.fm\"),\"pfm\")"
   ]
  },
  {
   "cell_type": "code",
   "execution_count": 67,
   "metadata": {
    "collapsed": false
   },
   "outputs": [
    {
     "name": "stdout",
     "output_type": "stream",
     "text": [
      "        0      1      2      3      4      5      6      7\n",
      "A:   0.19   0.17   0.88   0.92   0.04   0.04   0.06   0.12\n",
      "C:   0.37   0.08   0.04   0.02   0.02   0.87   0.52   0.25\n",
      "G:   0.08   0.04   0.04   0.04   0.33   0.02   0.08   0.37\n",
      "T:   0.37   0.71   0.04   0.02   0.62   0.08   0.35   0.27\n",
      "\n"
     ]
    }
   ],
   "source": [
    "print(bcd.counts)"
   ]
  },
  {
   "cell_type": "code",
   "execution_count": 127,
   "metadata": {
    "collapsed": false,
    "scrolled": true
   },
   "outputs": [
    {
     "name": "stdout",
     "output_type": "stream",
     "text": [
      "        0      1      2      3      4      5      6      7\n",
      "A:   0.19   0.17   0.88   0.92   0.04   0.04   0.06   0.12\n",
      "C:   0.37   0.08   0.04   0.02   0.02   0.87   0.52   0.25\n",
      "G:   0.08   0.04   0.04   0.04   0.33   0.02   0.08   0.37\n",
      "T:   0.37   0.71   0.04   0.02   0.62   0.08   0.35   0.27\n",
      "\n",
      "<class 'Bio.motifs.matrix.PositionWeightMatrix'>\n",
      "{'alphabet': IUPACUnambiguousDNA(), 'length': 8, '_letters': ['A', 'C', 'G', 'T']}\n"
     ]
    },
    {
     "data": {
      "text/plain": [
       "296"
      ]
     },
     "execution_count": 127,
     "metadata": {},
     "output_type": "execute_result"
    }
   ],
   "source": [
    "# If you want to normalize, but has to be based off of actual sequences.\n",
    "# the problem is that you have to normalize to get pwm and you need a pwm object \n",
    "# to get the Position Specific scoring Matrix. \n",
    "# Therefore I am just normalizing to zero.\n",
    "# I may need to adjust psuedocounts for what the sequence really is or to the Drosophila genome??\n",
    "\n",
    "pwm = bcd.counts.normalize(pseudocounts=0.0)\n",
    "print(pwm)\n",
    "print(type(pwm))\n",
    "print(vars(pwm))\n",
    "dir(pwm)\n",
    "sys.getsizeof(pwm)\n"
   ]
  },
  {
   "cell_type": "code",
   "execution_count": null,
   "metadata": {
    "collapsed": true
   },
   "outputs": [],
   "source": []
  },
  {
   "cell_type": "markdown",
   "metadata": {},
   "source": [
    "## Postion Specific scoring matrix\n",
    "\n",
    "pssm is a specific type of object class. More info [here](http://biopython.org/DIST/docs/api/Bio.Align.AlignInfo.PSSM-class.html)."
   ]
  },
  {
   "cell_type": "code",
   "execution_count": 99,
   "metadata": {
    "collapsed": false
   },
   "outputs": [],
   "source": [
    "pssm = pwm.log_odds()"
   ]
  },
  {
   "cell_type": "code",
   "execution_count": 103,
   "metadata": {
    "collapsed": false
   },
   "outputs": [
    {
     "name": "stdout",
     "output_type": "stream",
     "text": [
      "4527606736\n",
      "4751319120\n",
      "        0      1      2      3      4      5      6      7\n",
      "A:  -0.38  -0.53   1.82   1.88  -2.70  -2.70  -2.12  -1.12\n",
      "C:   0.55  -1.70  -2.70  -3.70  -3.70   1.79   1.05  -0.00\n",
      "G:  -1.70  -2.70  -2.70  -2.70   0.39  -3.70  -1.70   0.55\n",
      "T:   0.55   1.51  -2.70  -3.70   1.30  -1.70   0.47   0.11\n",
      "\n",
      "<class 'Bio.motifs.matrix.PositionSpecificScoringMatrix'>\n",
      "IUPACUnambiguousDNA()\n"
     ]
    }
   ],
   "source": [
    "print(id(pssm.alphabet)) # id() gives a unique hash.  Good to see when data changes.\n",
    "print(id(pssm))\n",
    "\n",
    "print(pssm)\n",
    "print(type(pssm))\n",
    "print(pssm.alphabet)\n",
    "#pssm #If you ask for the raw "
   ]
  },
  {
   "cell_type": "markdown",
   "metadata": {},
   "source": [
    "## Searching for TFBS\n"
   ]
  },
  {
   "cell_type": "markdown",
   "metadata": {},
   "source": [
    "Make sure that the alphabet of both pssm and and seqTest are the same. It won't work if they are different."
   ]
  },
  {
   "cell_type": "code",
   "execution_count": 90,
   "metadata": {
    "collapsed": false
   },
   "outputs": [
    {
     "name": "stdout",
     "output_type": "stream",
     "text": [
      "Position 137: score = 10.457\n",
      "Position -741: score = 8.399\n",
      "Position 309: score = 6.229\n",
      "Position -497: score = 9.910\n",
      "Position 429: score = 6.700\n",
      "Position 453: score = 6.700\n",
      "Position 459: score = 6.700\n",
      "Position 465: score = 6.700\n",
      "Position -376: score = 9.910\n",
      "Position -308: score = 6.053\n",
      "Position -289: score = 8.412\n",
      "Position -77: score = 6.380\n"
     ]
    },
    {
     "data": {
      "text/plain": [
       "4"
      ]
     },
     "execution_count": 90,
     "metadata": {},
     "output_type": "execute_result"
    }
   ],
   "source": [
    "for position, score in pssm.search(seqTest, threshold=6):\n",
    "    print(\"Position %d: score = %5.3f\" % (position, score))"
   ]
  },
  {
   "cell_type": "markdown",
   "metadata": {},
   "source": [
    "###  Test Motifs present\n",
    "\n",
    "We need to output a vector of all the positions from the search function, so we can can output all the motifs found for testing if the search threshold is valuable. "
   ]
  },
  {
   "cell_type": "code",
   "execution_count": 108,
   "metadata": {
    "collapsed": false
   },
   "outputs": [
    {
     "name": "stdout",
     "output_type": "stream",
     "text": [
      "[137, -741, 309, -497, 429, 453, 459, 465, -376, -308, -289, -77]\n",
      "TTAATCC\n",
      "GAGATTA\n",
      "ATAATCG\n",
      "GGGATTA\n",
      "ccaatcc\n",
      "ccaatcc\n",
      "ccaatcc\n",
      "ccaatcc\n",
      "GGGATTA\n",
      "CGACTTA\n",
      "GAGCTTA\n",
      "CAAATTA\n"
     ]
    }
   ],
   "source": [
    "#initiate \n",
    "allPos = []\n",
    "\n",
    "#how do I output a vector?\n",
    "for position, score in pssm.search(seqTest, threshold=6): \n",
    "    allPos.append(position)\n",
    "\n",
    "print(allPos)\n",
    "\n",
    "#length of motif\n",
    "m = 7\n",
    "\n",
    "for pos in allPos:\n",
    "    print(seqTest[pos:pos+m]) # this will find and print the motifs\n",
    "    "
   ]
  },
  {
   "cell_type": "markdown",
   "metadata": {},
   "source": [
    "###  Selecting Threshold\n",
    "\n",
    "Each threshold Should done  "
   ]
  },
  {
   "cell_type": "code",
   "execution_count": 124,
   "metadata": {
    "collapsed": false
   },
   "outputs": [
    {
     "data": {
      "text/plain": [
       "array([ -1.72112007e+01,  -1.28486300e+01,  -9.96327305e+00,\n",
       "        -5.30378675e+00,  -7.00739336e+00,  -1.12908478e+01,\n",
       "        -3.37464738e+00,  -1.23924625e+00,  -1.06938124e+01,\n",
       "        -3.61082268e+00,   1.31517661e+00,  -2.49217820e+00,\n",
       "        -3.58389449e+00,  -1.17538195e+01,  -1.81116638e+01,\n",
       "        -6.52388716e+00,  -2.82724917e-01,  -5.93873739e+00,\n",
       "        -9.81245708e+00,  -6.62342262e+00,  -4.54662609e+00,\n",
       "        -6.17620468e+00,  -1.43783102e+01,  -1.23387823e+01,\n",
       "        -1.00308475e+01,  -5.43642426e+00,  -5.69080973e+00,\n",
       "        -1.69030781e+01,  -9.44588470e+00,  -3.30149460e+00,\n",
       "        -7.69080973e+00,  -4.90590954e+00,  -1.47193470e+01,\n",
       "        -4.99337244e+00,  -4.54575920e+00,  -4.48641253e+00,\n",
       "        -6.02586031e+00,  -4.24130011e+00,  -1.28262625e+01,\n",
       "        -6.06768036e+00,  -6.01521301e+00,  -1.31116648e+01,\n",
       "        -1.19377375e+01,  -5.91167545e+00,  -9.43923950e+00,\n",
       "        -1.65267029e+01,  -9.41417599e+00,   3.92031893e-02,\n",
       "        -6.18685198e+00,  -1.51481905e+01,  -1.10701876e+01,\n",
       "        -1.10982027e+01,  -1.14392395e+01,  -1.12908478e+01,\n",
       "        -1.06225748e+01,  -6.95684671e+00,  -5.69099712e+00,\n",
       "        -4.62462854e+00,  -6.39776278e+00,  -1.23172483e+01,\n",
       "        -1.33783102e+01,   7.89631069e-01,  -3.46925187e+00,\n",
       "        -1.46551504e+01,  -4.72828436e+00,  -6.67981863e+00,\n",
       "        -8.34331512e+00,  -4.85474825e+00,  -3.96327281e+00,\n",
       "        -7.72828436e+00,  -1.24167843e+01,  -1.47193470e+01,\n",
       "        -7.77181482e+00,  -6.90026283e+00,  -7.39776278e+00,\n",
       "        -6.08139420e+00,  -1.14992466e+01,  -1.93555908e+01,\n",
       "        -6.61580944e+00,  -6.27877474e+00,  -6.22783756e+00,\n",
       "        -2.55783224e+00,  -1.00017471e+01,  -1.15418091e+01,\n",
       "        -6.18285036e+00,  -4.54662609e+00,  -3.92827749e+00,\n",
       "        -1.33783102e+01,  -1.45867090e+01,  -1.20308475e+01,\n",
       "        -6.31443357e+00,  -2.40840983e+00,  -5.52934599e+00,\n",
       "        -1.05632277e+01,  -1.10246735e+01,   2.13907790e+00,\n",
       "        -6.58389425e+00,  -6.18830919e+00,  -1.37538195e+01,\n",
       "        -4.06932116e+00,  -8.60070229e+00,  -9.41122532e+00,\n",
       "        -6.20838547e+00,  -6.85474825e+00,  -1.46195936e+00,\n",
       "        -1.60412750e+01,  -1.75811501e+01,  -8.86092186e+00,\n",
       "         8.71376619e-02,  -5.15383720e+00,  -1.54112253e+01,\n",
       "        -1.03401756e+01,  -2.00032520e+00,  -3.41362089e-01,\n",
       "        -7.39330292e+00,  -1.05466261e+01,  -9.76116753e+00,\n",
       "        -1.81116638e+01,  -1.15132399e+01,  -1.19251375e+01,\n",
       "        -1.43642426e+00,  -8.75521278e+00,  -8.90026283e+00,\n",
       "        -6.43328476e+00,  -7.26085281e+00,  -8.30270004e+00,\n",
       "        -1.16787052e+01,  -1.15783348e+01,  -1.39417400e+01,\n",
       "        -5.32094717e+00,  -7.33071470e+00,  -1.08262625e+01,\n",
       "        -3.92232275e+00,   9.65202630e-01,  -2.70991850e+00,\n",
       "        -1.40937424e+01,  -9.79455376e+00,  -6.60070276e+00,\n",
       "        -1.25267019e+01,  -8.04692173e+00,  -8.10832214e+00,\n",
       "        -6.49217844e+00,  -1.75521266e+00,  -9.01574039e+00,\n",
       "        -1.60701885e+01,  -1.39022112e+01,  -8.68435192e+00,\n",
       "        -7.40471554e+00,  -2.86073470e+00,  -1.43555899e+01,\n",
       "        -9.85027504e+00,  -1.19632730e+01,  -1.15611744e+01,\n",
       "        -4.35842180e+00,  -1.15098934e+01,  -5.91937160e+00,\n",
       "        -5.65928841e+00,   8.39860630e+00,  -4.96445990e+00,\n",
       "        -6.79173851e+00,   2.35470510e+00,  -1.05267019e+01,\n",
       "        -1.46787052e+01,  -7.43971062e+00,  -7.39124918e+00,\n",
       "        -5.82539558e+00,  -8.46195984e+00,  -6.37670088e+00,\n",
       "        -2.91003084e+00,  -6.35277510e+00,  -9.16885662e+00,\n",
       "        -1.58892727e+01,  -8.36242390e+00,  -4.32225323e+00,\n",
       "        -6.79455376e+00,  -2.86092210e+00,  -8.58389473e+00,\n",
       "        -1.73181152e+01,  -9.60634899e+00,  -1.09417400e+01,\n",
       "        -1.34112253e+01,   4.09065753e-01,  -4.76282597e+00,\n",
       "        -1.05477297e+00,  -8.01574039e+00,  -1.59961872e+01,\n",
       "        -1.28542767e+01,  -1.24181776e+01,   8.39210153e-01,\n",
       "        -3.24425077e+00,  -9.99618721e+00,  -1.46007023e+01,\n",
       "        -1.18225679e+01,  -1.45267019e+01,  -1.13567772e+01,\n",
       "        -3.74175048e+00,  -8.32376194e+00,  -1.55267019e+01,\n",
       "        -6.25271225e+00,  -7.49217844e+00,  -2.17025018e+00,\n",
       "        -4.80628681e+00,  -1.59961872e+01,  -1.28542767e+01,\n",
       "        -7.41817760e+00,  -2.65264297e+00,  -3.82921314e+00,\n",
       "        -8.96327305e+00,  -1.03132467e+01,  -1.40242014e+01,\n",
       "        -1.79417400e+01,  -1.58528769e+00,   1.96520257e+00,\n",
       "        -2.40840983e+00,  -1.08318224e+01,  -1.29961872e+01,\n",
       "        -1.59417400e+01,   6.58637881e-01,   3.57256460e+00,\n",
       "        -1.09324706e+00,  -8.71934700e+00,  -8.82921314e+00,\n",
       "        -4.32506847e+00,  -1.06007023e+01,  -1.03912497e+01,\n",
       "        -1.72112007e+01,  -9.60634899e+00,  -7.73228645e+00,\n",
       "        -1.47331533e+01,  -1.76085925e+00,  -2.96445966e+00,\n",
       "        -6.96166372e+00,   1.25824964e+00,  -7.16885710e+00,\n",
       "        -1.48091021e+01,  -1.65226994e+01,  -4.48435879e+00,\n",
       "        -4.73228645e+00,  -9.47576523e+00,  -5.85474825e+00,\n",
       "        -4.88927221e+00,  -1.10157404e+01,  -5.76728535e+00,\n",
       "        -1.36262379e+01,  -1.12787743e+01,  -5.05585909e+00,\n",
       "        -1.69961872e+01,  -7.94738626e+00,  -3.58528757e+00,\n",
       "        -3.37670112e+00,   2.66263986e+00,  -7.13438463e+00,\n",
       "        -1.39002628e+01,  -9.45265007e+00,  -6.14732361e+00,\n",
       "        -9.52388668e+00,  -6.93873739e+00,  -1.00701876e+01,\n",
       "        -1.17611675e+01,  -1.03043098e+01,  -9.29084778e+00,\n",
       "        -9.34017563e+00,  -2.14031875e-01,  -1.00771408e+01,\n",
       "        -1.33181152e+01,  -1.10308475e+01,  -1.07322865e+01,\n",
       "        -5.32094717e+00,  -5.44318962e+00,  -7.99618721e+00,\n",
       "        -1.28637371e+01,  -2.17025018e+00,  -1.84528804e+00,\n",
       "        -5.49217844e+00,  -6.67981863e+00,  -1.32787743e+01,\n",
       "        -8.33071518e+00,  -1.90721571e+00,  -1.45264995e+00,\n",
       "        -6.35277510e+00,  -1.40017471e+01,  -1.31856651e+01,\n",
       "        -1.61856651e+01,  -4.10884953e+00,  -4.49643183e+00,\n",
       "        -1.22017717e+01,  -1.21343851e+01,   6.62639856e-01,\n",
       "        -1.31530046e+00,  -7.27577209e+00,  -9.29084778e+00,\n",
       "        -1.69632721e+01,  -7.27877474e+00,  -1.03912497e+01,\n",
       "        -1.22412996e+01,  -1.15494223e+01,  -4.33440924e+00,\n",
       "        -5.64287519e+00,  -4.87420082e+00,  -6.87581015e+00,\n",
       "        -1.41461372e+01,  -1.70336628e+01,  -9.86092186e+00,\n",
       "         3.28312874e+00,  -1.05791271e+00,  -5.75221014e+00,\n",
       "        -2.67981887e+00,  -1.46007023e+01,  -6.07714081e+00,\n",
       "        -6.62623787e+00,  -1.26007023e+01,  -8.32932186e+00,\n",
       "        -1.69632721e+01,  -4.98185825e+00,  -6.39124918e+00,\n",
       "        -1.15676880e+01,  -8.93773746e+00,  -5.33878183e+00,\n",
       "        -7.85027504e+00,  -1.34167843e+01,  -9.30430984e+00,\n",
       "        -1.23527756e+01,  -2.99337244e+00,  -6.70588493e+00,\n",
       "        -1.13237619e+01,  -1.63043098e+01,  -4.92232275e+00,\n",
       "        -3.25176399e-04,  -2.82344747e+00,  -1.19002628e+01,\n",
       "        -1.18607349e+01,  -5.39689589e+00,  -1.59417400e+01,\n",
       "        -7.24130011e+00,  -2.82921314e+00,  -3.69080973e+00,\n",
       "        -6.88645744e+00,  -8.70588493e+00,  -1.43181152e+01,\n",
       "        -1.67706280e+01,  -6.16243076e+00,  -7.05756903e+00,\n",
       "        -8.75387609e-01,  -2.03966618e+00,  -9.07018757e+00,\n",
       "        -1.31856651e+01,  -1.41237373e+01,  -1.50982027e+01,\n",
       "        -1.67706280e+01,  -3.24489284e+00,  -1.03433151e+01,\n",
       "        -1.40575876e+01,   1.13907790e+00,  -1.61975992e+00,\n",
       "        -6.06072760e+00,  -1.92112007e+01,  -1.27706280e+01,\n",
       "        -1.12392464e+01,  -6.09938908e+00,  -6.18232298e+00,\n",
       "        -8.31811523e+00,  -1.53555899e+01,  -9.85027504e+00,\n",
       "        -1.36798191e+01,  -8.26931477e+00,  -6.66774988e+00,\n",
       "        -5.82626247e+00,  -8.66210365e+00,  -6.67749822e-01,\n",
       "        -9.20838547e+00,  -1.24949932e+01,  -6.85027504e+00,\n",
       "        -1.71856651e+01,  -1.57706280e+01,  -9.19131184e+00,\n",
       "        -1.60157394e+01,  -1.20892973e+01,  -6.61699677e+00,\n",
       "         4.46540475e-01,  -2.62181354e+00,  -9.80772376e-01,\n",
       "        -5.52388716e+00,  -1.03027000e+01,  -5.90721560e+00,\n",
       "        -2.51128721e+00,  -7.18685198e+00,  -1.03027000e+01,\n",
       "        -5.90721560e+00,  -2.51128721e+00,  -7.18685198e+00,\n",
       "        -1.03027000e+01,  -5.90721560e+00,  -3.83321524e+00,\n",
       "        -9.35677719e+00,  -1.39002628e+01,  -1.16621037e+01,\n",
       "        -3.02138686e+00,  -1.40157404e+01,  -1.33716965e+01,\n",
       "        -1.07869215e+01,  -3.83040023e+00,   9.90956783e+00,\n",
       "        -7.56322813e+00,  -1.57331533e+01,  -1.19632730e+01,\n",
       "        -1.19762115e+01,  -1.81193340e+00,  -9.70588493e+00,\n",
       "        -1.16551504e+01,  -1.13555899e+01,  -1.38637371e+01,\n",
       "        -8.64253139e+00,  -1.60800779e+00,   5.78757715e+00,\n",
       "        -6.35377455e+00,  -1.65811501e+01,  -1.52787743e+01,\n",
       "        -1.00032520e+00,   1.18024707e+00,  -7.90026283e+00,\n",
       "        -1.13387823e+01,  -1.32392464e+01,  -1.37718143e+01,\n",
       "        -3.24825263e+00,  -2.31530046e+00,  -7.27577209e+00,\n",
       "        -6.00739336e+00,  -1.39538126e+01,  -1.14949932e+01,\n",
       "        -6.77062750e+00,  -1.09377375e+01,  -8.29084778e+00,\n",
       "        -9.59235573e+00,  -1.47611675e+01,  -1.48320284e+01,\n",
       "        -3.27877474e+00,  -1.12787743e+01,  -7.22783756e+00,\n",
       "        -4.14279461e+00,  -1.03461304e+01,  -1.83555908e+01,\n",
       "        -1.33555899e+01,  -1.45227003e+01,  -5.02138662e+00,\n",
       "        -6.42243099e+00,  -1.36456900e+01,  -1.48320284e+01,\n",
       "        -3.27877474e+00,  -1.03527756e+01,  -5.18830919e+00,\n",
       "        -9.59235573e+00,  -1.47611675e+01,  -9.83202839e+00,\n",
       "        -6.77062750e+00,  -1.09377375e+01,  -5.08139420e+00,\n",
       "        -9.59235573e+00,  -1.47611675e+01,  -9.83202839e+00,\n",
       "        -6.77062750e+00,  -1.09377375e+01,  -5.08139420e+00,\n",
       "        -9.59235573e+00,  -1.47611675e+01,  -9.83202839e+00,\n",
       "        -6.77062750e+00,  -1.18637371e+01,  -8.04692173e+00,\n",
       "        -6.18232298e+00,  -4.50063992e+00,  -1.06007023e+01,\n",
       "        -1.28320284e+01,  -1.18637371e+01,  -1.04498863e+01,\n",
       "        -4.16078997e+00,  -2.63027525e+00,  -7.74010563e+00,\n",
       "        -4.99913836e+00,  -6.65428400e+00,  -1.49417400e+01,\n",
       "        -7.40471554e+00,   1.32312596e-01,  -9.18566513e+00,\n",
       "        -8.72828388e+00,  -7.75381947e+00,  -1.29762115e+01,\n",
       "        -6.03484917e+00,  -7.87135029e+00,  -3.96166348e+00,\n",
       "        -4.50989389e+00,  -5.71653223e+00,  -9.72869635e-01,\n",
       "        -3.27577209e+00,  -1.15611744e+01,  -4.72828436e+00,\n",
       "        -9.00174713e+00,  -9.60070229e+00,  -6.41678429e+00,\n",
       "        -7.37831020e+00,  -6.00739336e+00,  -7.20838547e+00,\n",
       "        -2.72775722e+00,  -1.06932127e+00,  -1.23783102e+01,\n",
       "        -2.04722390e-01,  -2.09485626e+00,  -1.14307775e+01,\n",
       "        -3.85474825e+00,  -2.09485626e+00,  -1.14307775e+01,\n",
       "        -9.78074741e+00,  -1.96445978e+00,  -8.49217796e+00,\n",
       "        -7.90026283e+00,  -6.26196623e+00,  -6.71882391e+00,\n",
       "        -1.70701885e+01,  -7.27877474e+00,  -6.35277510e+00,\n",
       "        -1.02017717e+01,  -8.64253139e+00,  -2.60800767e+00,\n",
       "         9.90956783e+00,  -5.31530046e+00,  -1.24852257e+01,\n",
       "        -1.09632730e+01,  -1.84335918e+01,  -1.11088495e+01,\n",
       "        -1.05494223e+01,  -8.40841007e+00,  -6.56887436e+00,\n",
       "        -1.39002628e+01,  -3.86638117e+00,  -1.23527756e+01,\n",
       "        -8.00183392e+00,  -9.43077755e+00,  -1.33795156e+01,\n",
       "        -3.86092210e+00,  -3.09204125e+00,  -7.81280041e+00,\n",
       "        -1.52306528e+01,  -1.37706280e+01,  -1.08982096e+01,\n",
       "        -6.48435879e+00,  -5.21403170e+00,  -1.11481905e+01,\n",
       "        -9.65515041e+00,  -4.64082146e+00,  -1.10948563e+01,\n",
       "        -6.72499371e+00,  -2.65928817e+00,   3.66282725e+00,\n",
       "        -4.39124918e+00,  -1.33783102e+01,  -1.09632730e+01,\n",
       "        -1.01856651e+01,  -8.55171394e+00,  -1.63043098e+01,\n",
       "        -9.88645744e+00,   5.87209320e+00,  -4.47576523e+00,\n",
       "        -1.44852257e+01,  -1.05482349e+01,  -1.03132467e+01,\n",
       "        -5.05986071e+00,  -1.57193470e+01,  -4.99337244e+00,\n",
       "        -8.29213262e-01,  -2.81280017e+00,  -1.43043098e+01,\n",
       "        -1.53043098e+01,  -5.33736038e+00,   2.86809134e+00,\n",
       "        -1.57952178e+00,  -7.13277531e+00,  -7.17737973e-01,\n",
       "        -4.83321524e+00,  -3.24825263e+00,  -4.61082268e+00,\n",
       "        -4.90721560e+00,  -8.32506847e+00,  -1.16007023e+01,\n",
       "        -1.84335918e+01,  -1.94335918e+01,  -9.60634899e+00,\n",
       "        -1.40157404e+01,  -5.11430883e+00,  -1.11913118e+01,\n",
       "        -1.64112244e+01,   1.07767737e+00,   6.05266523e+00,\n",
       "        -1.01481905e+01,  -1.77961636e+01,  -1.37706280e+01,\n",
       "        -1.71116638e+01,  -3.85146189e+00,  -4.18232298e+00,\n",
       "        -4.69927120e+00,  -1.61856651e+01,  -1.38320284e+01,\n",
       "        -1.44588459e+00,  -1.32636681e+01,  -9.39776230e+00,\n",
       "        -1.28758097e+01,  -1.35611744e+01,  -8.77627468e+00,\n",
       "        -1.52787743e+01,  -5.91937160e+00,  -4.65928841e+00,\n",
       "         8.41206837e+00,  -6.24685955e+00,  -1.79030781e+01,\n",
       "        -1.37706280e+01,  -1.11856651e+01,  -9.43923950e+00,\n",
       "        -9.04692173e+00,  -7.69328499e+00,  -5.75521278e+00,\n",
       "         1.66263986e+00,  -1.24425077e+00,  -6.27577209e+00,\n",
       "        -1.84335918e+01,  -2.04335918e+01,  -8.69381237e+00,\n",
       "        -1.20157404e+01,  -3.90590954e+00,  -1.19538126e+01,\n",
       "        -1.76551514e+01,  -7.40635633e+00,  -9.10884953e+00,\n",
       "        -5.32094717e+00,  -5.69080973e+00,  -1.36551504e+01,\n",
       "        -5.28442097e+00,  -7.62342262e+00,  -6.92213535e+00,\n",
       "        -3.78692150e+00,  -7.05756903e+00,  -2.20677614e+00,\n",
       "        -5.88766289e+00,  -2.35396218e+00,  -7.26978588e+00,\n",
       "        -1.04852257e+01,  -1.26198120e+01,  -1.28458157e+01,\n",
       "        -7.05477285e+00,  -3.93892455e+00,  -6.44688416e+00,\n",
       "        -1.61481915e+01,  -1.48262625e+01,  -6.77181482e+00,\n",
       "        -7.81280041e+00,  -8.43623638e+00,  -1.24607725e+01,\n",
       "        -1.20201998e+01,  -7.82420874e+00,  -9.77627468e+00,\n",
       "        -9.17024994e+00,   4.29606771e+00,  -3.25176399e-04,\n",
       "        -2.13277555e+00,  -4.61082268e+00,  -4.90721560e+00,\n",
       "        -6.07714081e+00,  -1.28486300e+01,  -1.94335918e+01,\n",
       "        -1.81856651e+01,  -8.48435879e+00,  -1.22697091e+00,\n",
       "        -8.85127449e+00,  -1.49030781e+01,  -1.10336618e+01,\n",
       "        -7.01574039e+00,  -6.01521301e+00,  -5.70588493e+00,\n",
       "        -1.13387823e+01,  -6.81074667e+00,  -1.46831646e+01,\n",
       "        -1.46966276e+01,  -7.93773794e+00,  -3.20472240e+00,\n",
       "         1.74749398e+00,  -1.47193470e+01,  -1.04112253e+01,\n",
       "        -2.82921314e+00,  -1.65264297e+00,  -8.79334736e+00,\n",
       "        -1.67961636e+01,  -1.55227003e+01,  -5.39689589e+00,\n",
       "        -1.08062868e+01,  -8.00183392e+00,  -7.18285036e+00,\n",
       "        -5.13158846e+00,  -8.60070229e+00,  -8.88645744e+00,\n",
       "        -9.58389473e+00,  -7.36888170e+00,  -6.36242390e+00,\n",
       "        -7.73033810e+00,  -5.13158846e+00,  -8.60070229e+00,\n",
       "        -1.11343851e+01,  -1.37933474e+01,  -1.05783348e+01,\n",
       "        -5.36242390e+00,  -9.56887436e+00,  -1.18876629e+01,\n",
       "         6.62639856e-01,   9.99674797e-01,  -8.24129963e+00,\n",
       "        -1.39002628e+01,  -1.16621037e+01,  -5.26931429e+00,\n",
       "        -1.72636681e+01,  -1.89030781e+01,  -1.10308475e+01,\n",
       "        -1.22697091e+00,  -5.60334682e+00,  -9.35823441e+00,\n",
       "        -7.89820957e+00,  -9.10766315e+00,  -3.72828436e+00,\n",
       "        -7.37831020e+00,  -1.23783102e+01,  -6.77003860e-01,\n",
       "        -1.17933474e+01,  -1.12412996e+01,  -4.30149460e+00,\n",
       "        -1.09387369e+01,  -9.91937160e+00,  -3.04410696e+00,\n",
       "        -1.09324706e+00,  -6.06072760e+00,  -1.16621037e+01,\n",
       "        -8.21120071e+00,  -1.35227003e+01,  -9.51323986e+00,\n",
       "        -1.28018093e+01,  -1.47611675e+01,  -1.48320284e+01,\n",
       "        -6.95684671e+00,  -4.69099712e+00,  -3.28923821e+00,\n",
       "        -8.32376194e+00,  -1.56007023e+01,  -9.62257481e+00,\n",
       "        -6.44588470e+00,  -5.31443357e+00,  -7.82626247e+00,\n",
       "        -1.07388000e+01,  -4.90721560e+00,  -4.43971062e+00,\n",
       "        -2.78692150e+00,  -1.06234226e+01,  -1.05851002e+01,\n",
       "        -8.10884953e+00,  -1.07718143e+01,  -8.82626247e+00,\n",
       "        -9.81280041e+00,  -1.00771408e+01,  -1.38395691e+00,\n",
       "        -1.23527756e+01,  -1.24456968e+01,  -8.74739361e+00,\n",
       "        -8.35396194e+00,   1.11515200e+00,   9.68153417e-01,\n",
       "        -1.12412996e+01,  -7.68482351e+00,   5.92055893e+00,\n",
       "        -5.26085281e+00,  -5.67820978e+00,  -6.45631266e+00,\n",
       "        -1.16621037e+01,  -1.73228633e+00,  -1.40412750e+01,\n",
       "        -6.98967791e+00,  -4.09485626e+00,  -1.26007023e+01,\n",
       "        -1.11725950e+00,  -4.09485626e+00,  -1.36007023e+01,\n",
       "        -2.04722390e-01,  -1.16885698e+00,  -1.03172483e+01,\n",
       "        -7.20838547e+00,  -6.36571026e+00,  -2.77181458e+00,\n",
       "        -6.61082268e+00,  -3.02586031e+00,   8.07029724e-01,\n",
       "        -5.15514326e+00,  -1.27331533e+01,  -1.94335918e+01,\n",
       "        -1.71856651e+01,  -4.39689589e+00,  -8.96675110e+00,\n",
       "        -1.35676880e+01,  -1.11076632e+01,  -4.89820957e+00,\n",
       "        -4.64082146e+00,  -1.34167843e+01,  -9.30430984e+00,\n",
       "        -7.35277510e+00,  -6.48522568e+00,  -4.08139420e+00,\n",
       "        -7.08139420e+00,  -1.33387823e+01,  -4.65428400e+00,\n",
       "        -8.27877426e+00,  -7.24130011e+00,  -1.61082280e+00,\n",
       "         2.06160259e+00,  -4.34778833e+00,  -5.43971062e+00,\n",
       "        -5.72828436e+00,  -1.19762115e+01,  -1.08147488e+01,\n",
       "        -1.29417400e+01,  -5.07714081e+00,   6.38023996e+00,\n",
       "        -2.58389449e+00,  -1.33043098e+01,  -1.20412750e+01,\n",
       "        -9.91003036e+00,  -1.12636681e+01,  -7.88645744e+00,\n",
       "        -7.70588493e+00,  -1.42306528e+01,  -1.46831646e+01,\n",
       "        -1.28982096e+01,  -8.65428352e+00,  -5.69945860e+00,\n",
       "        -7.73033810e+00,  -4.13158846e+00,  -2.26531243e+00,\n",
       "        -1.43043098e+01,  -1.53043098e+01,  -7.58528757e+00,\n",
       "        -2.66329026e+00,  -5.07137489e+00,  -1.19002628e+01,\n",
       "        -8.69927120e+00,  -1.28542767e+01,  -8.91567707e+00,\n",
       "        -7.55212665e-01,  -4.07714081e+00,  -5.07714081e+00,\n",
       "        -1.03783102e+01,  -1.29022112e+01,  -1.18542767e+01,\n",
       "        -9.33071518e+00,  -2.41817760e+00,  -4.07714081e+00,\n",
       "        -5.07714081e+00,  -1.03783102e+01,  -1.29022112e+01,\n",
       "        -1.09282770e+01,  -1.05006399e+01,  -6.94173956e+00,\n",
       "        -9.66210365e+00,  -4.75521278e+00,  -3.71653223e+00,\n",
       "        -9.74010563e+00,  -7.39776278e+00,  -1.71856651e+01,\n",
       "        -1.57706280e+01,  -9.19131184e+00,  -1.60157394e+01,\n",
       "        -7.95384407e+00,  -6.86092234e+00,  -4.32094717e+00,\n",
       "        -8.90026283e+00,  -1.69030781e+01,  -9.44588470e+00,\n",
       "        -8.30149460e+00,  -9.65633774e+00,  -7.56887436e+00,\n",
       "        -1.49002628e+01,  -7.87984324e+00,  -2.52953362e+00,\n",
       "        -4.11931324e+00,   7.36827910e-01,  -8.60070229e+00,\n",
       "        -9.34017563e+00,  -6.45631266e+00,  -1.06621037e+01,\n",
       "        -7.17620468e+00,  -1.68892727e+01,  -1.15132399e+01], dtype=float32)"
      ]
     },
     "execution_count": 124,
     "metadata": {},
     "output_type": "execute_result"
    }
   ],
   "source": [
    "# Forward\n",
    "pssm.calculate(seqTest) \n",
    "\n",
    "# Reverse\n",
    "rpssm = pssm.reverse_complement()\n",
    "rpssm.calculate(seqTest)"
   ]
  },
  {
   "cell_type": "code",
   "execution_count": 129,
   "metadata": {
    "collapsed": false
   },
   "outputs": [
    {
     "name": "stdout",
     "output_type": "stream",
     "text": [
      "6.291223\n",
      "3.262\n"
     ]
    }
   ],
   "source": [
    "bcd.background = None\n",
    "print(\"Background: %f\" % bcd.pssm.mean(bcd.background))\n",
    "\n",
    "distribution = pssm.distribution(background=bcd.background, precision=10**4)\n",
    "#print(type(distribution))\n",
    "#print(distribution)\n",
    "dir(distribution) #there is a threshold for patser. \n",
    "\n",
    "# that is what we should use. \n",
    "\n",
    "threshold = distribution.threshold_patser()\n",
    "print(\"Patser Threshold %5.3f\" % threshold)"
   ]
  },
  {
   "cell_type": "markdown",
   "metadata": {},
   "source": [
    "- Now I need to check.  I should really be doing this in D. mel.\n",
    "- AND I fully need to understand exactly what is this saying.\n"
   ]
  },
  {
   "cell_type": "markdown",
   "metadata": {},
   "source": [
    "## Resources\n",
    "1. [describing periods](http://reeborg.ca/docs/oop_py_en/oop.html)\n",
    "2. [Into to classes and objects](http://openbookproject.net/thinkcs/python/english3e/classes_and_objects_I.html)\n"
   ]
  },
  {
   "cell_type": "code",
   "execution_count": null,
   "metadata": {
    "collapsed": true
   },
   "outputs": [],
   "source": []
  }
 ],
 "metadata": {
  "kernelspec": {
   "display_name": "Python 2",
   "language": "python",
   "name": "python2"
  },
  "language_info": {
   "codemirror_mode": {
    "name": "ipython",
    "version": 2
   },
   "file_extension": ".py",
   "mimetype": "text/x-python",
   "name": "python",
   "nbconvert_exporter": "python",
   "pygments_lexer": "ipython2",
   "version": "2.7.13"
  }
 },
 "nbformat": 4,
 "nbformat_minor": 0
}
