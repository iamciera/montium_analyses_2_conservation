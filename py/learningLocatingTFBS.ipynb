{
 "cells": [
  {
   "cell_type": "markdown",
   "metadata": {},
   "source": [
    "# Locating TFBS\n",
    "\n",
    "I will be using Biopython's Bio.motifs package.  I cannot get the python 3 kernel working with the biopython package.  This needs to be fixed."
   ]
  },
  {
   "cell_type": "code",
   "execution_count": 1,
   "metadata": {
    "collapsed": false
   },
   "outputs": [],
   "source": [
    "from Bio import motifs\n",
    "from Bio import SeqIO \n",
    "from Bio.Seq import Seq\n",
    "from Bio.Alphabet import IUPAC, generic_dna, generic_protein\n",
    "import pandas as pd\n",
    "import os, sys\n"
   ]
  },
  {
   "cell_type": "markdown",
   "metadata": {},
   "source": [
    "## Sequences to Query\n",
    "\n",
    "Reading in ES2 sequences from 11 species to test. "
   ]
  },
  {
   "cell_type": "code",
   "execution_count": 2,
   "metadata": {
    "collapsed": false
   },
   "outputs": [
    {
     "name": "stdout",
     "output_type": "stream",
     "text": [
      "ludwig_eve-striped-2||memb002e|-\n",
      "Seq('atataacccaataattttaactaactcgcaggagcggcaagaaggatgcgttgt...cta', SingleLetterAlphabet())\n",
      "928\n",
      "ludwig_eve-striped-2||memb003c|-\n",
      "Seq('atataacccaataattttaactaactcgcaggagcaagaaggatgcggatgcgt...ctg', SingleLetterAlphabet())\n",
      "875\n",
      "ludwig_eve-striped-2||memb003d|-\n",
      "Seq('atataacccaataattttaactaactcgcaggagcggccagaaggatgcgttgt...cgc', SingleLetterAlphabet())\n",
      "898\n",
      "ludwig_eve-striped-2||memb002a|+\n",
      "Seq('atataacccaataatttgaactaactcgcaggagcaagaaggatgcggatgcgt...ctg', SingleLetterAlphabet())\n",
      "868\n",
      "ludwig_eve-striped-2||memb002c|+\n",
      "Seq('atataacccaataattttaactaactcgcaggagcaagaaggatgcggatgcgt...ctg', SingleLetterAlphabet())\n",
      "862\n",
      "ludwig_eve-striped-2||memb002d|+\n",
      "Seq('atataacccaataatttgaactaactcgcaggagcggcaagaaggatgcgttgt...cta', SingleLetterAlphabet())\n",
      "913\n",
      "ludwig_eve-striped-2||memb002f|+\n",
      "Seq('atataacccaataattttaactaactcgcaggagcaagaaggatgcgttgttac...cgc', SingleLetterAlphabet())\n",
      "905\n",
      "ludwig_eve-striped-2||memb003b|+\n",
      "Seq('atataacccaataattttaactaactcgcaggagcggcaagaaggatgcgtttg...ggc', SingleLetterAlphabet())\n",
      "909\n",
      "ludwig_eve-striped-2||memb003f|+\n",
      "Seq('atataacccaataattttaactaactcgcaggagcggcaagaaggatgcgttgt...ggc', SingleLetterAlphabet())\n",
      "868\n"
     ]
    }
   ],
   "source": [
    "for seq_record in SeqIO.parse(\"../data/fasta/ludwig_eve-striped-2.fasta\", \"fasta\"):\n",
    "    print(seq_record.id)\n",
    "    print(repr(seq_record.seq))\n",
    "    print(len(seq_record))"
   ]
  },
  {
   "cell_type": "code",
   "execution_count": 3,
   "metadata": {
    "collapsed": false,
    "scrolled": false
   },
   "outputs": [
    {
     "name": "stdout",
     "output_type": "stream",
     "text": [
      "atataacccaataattttaactaactcgcaggagcggcaagaaggatgcgttgttacccggtaatgcataacaatggtcctcggaacggggaattggaaactaggacatggatcgaaggttcctcctcaccctgtctctgtgtgtgtttgtgccgtgttaatccgttttccatcagccagattattagtcaattttgggccagttttccagcatttcccttttggcatcgtttcactttcgagttagattttattgccgcatcttgaacaatcgaaacggagttttggtaacacgctgtgctctacttttactggctttcaattgagaacggaattaaacggaattccgggagttaagagaagacaggagacaggagacaggctagagaccctgactagaggccaaaaaccgggttgcaaagtcaggagattccgttcgaatgcaaggactctaacccagtttgtttgtttgtttgctgggattagccgagggcttgacttggtaccccgatcccgaagatctttgagccgcgatcccgtttcccgattttcattagaaagtcataaaaacacataataatgatgtcgaagggattagctggacatatccctatccctggcccaaaggcaggcagcctagctttgctgggtttattttttgcgctgacttaacccttaatcctcagcagcttaagcgtagcaggtagagttctggtatcccttttttgcgcaaactttgttgtgtttttgttgtgtagtcccccccctttgaaaggaccttctgccagggggtacagttgcctccaactgggcatgattatatcatcataataaatgttttgcccaacgaaaccgtagctaaaacttttcaaattaagtctccagcaactgaggccgttcctcctggaacccagccattatcctgcta\n",
      "<class 'Bio.SeqRecord.SeqRecord'>\n"
     ]
    }
   ],
   "source": [
    "records = list(SeqIO.parse(\"../data/fasta/ludwig_eve-striped-2.fasta\", \"fasta\"))\n",
    "\n",
    "# Use only the first record\n",
    "seqTest = records[0]\n",
    "print(seqTest.seq)\n",
    "print(type(seqTest))"
   ]
  },
  {
   "cell_type": "code",
   "execution_count": 4,
   "metadata": {
    "collapsed": false
   },
   "outputs": [
    {
     "data": {
      "text/plain": [
       "'ludwig_eve-striped-2||memb002e|-'"
      ]
     },
     "execution_count": 4,
     "metadata": {},
     "output_type": "execute_result"
    }
   ],
   "source": [
    "str(seqTest.id) "
   ]
  },
  {
   "cell_type": "code",
   "execution_count": 5,
   "metadata": {
    "collapsed": false
   },
   "outputs": [
    {
     "name": "stdout",
     "output_type": "stream",
     "text": [
      "atataacccaataattttaactaactcgcaggagcggcaagaaggatgcgttgttacccggtaatgcataacaatggtcctcggaacggggaattggaaactaggacatggatcgaaggttcctcctcaccctgtctctgtgtgtgtttgtgccgtgttaatccgttttccatcagccagattattagtcaattttgggccagttttccagcatttcccttttggcatcgtttcactttcgagttagattttattgccgcatcttgaacaatcgaaacggagttttggtaacacgctgtgctctacttttactggctttcaattgagaacggaattaaacggaattccgggagttaagagaagacaggagacaggagacaggctagagaccctgactagaggccaaaaaccgggttgcaaagtcaggagattccgttcgaatgcaaggactctaacccagtttgtttgtttgtttgctgggattagccgagggcttgacttggtaccccgatcccgaagatctttgagccgcgatcccgtttcccgattttcattagaaagtcataaaaacacataataatgatgtcgaagggattagctggacatatccctatccctggcccaaaggcaggcagcctagctttgctgggtttattttttgcgctgacttaacccttaatcctcagcagcttaagcgtagcaggtagagttctggtatcccttttttgcgcaaactttgttgtgtttttgttgtgtagtcccccccctttgaaaggaccttctgccagggggtacagttgcctccaactgggcatgattatatcatcataataaatgttttgcccaacgaaaccgtagctaaaacttttcaaattaagtctccagcaactgaggccgttcctcctggaacccagccattatcctgcta\n",
      "<class 'Bio.Seq.Seq'>\n"
     ]
    }
   ],
   "source": [
    "# Why can't I put this first? Because I am writing over?\n",
    "# Why do I have to put str in front of Seq\n",
    "seqTest = Seq(str(seqTest.seq), IUPAC.IUPACUnambiguousDNA())\n",
    "print(seqTest)\n",
    "print(type(seqTest))"
   ]
  },
  {
   "cell_type": "markdown",
   "metadata": {},
   "source": [
    "## Motifs"
   ]
  },
  {
   "cell_type": "code",
   "execution_count": 6,
   "metadata": {
    "collapsed": false
   },
   "outputs": [],
   "source": [
    "bcd = motifs.read(open(\"../data/PWM/transpose_fm/bcd_FlyReg.fm\"),\"pfm\")"
   ]
  },
  {
   "cell_type": "code",
   "execution_count": 7,
   "metadata": {
    "collapsed": false
   },
   "outputs": [
    {
     "name": "stdout",
     "output_type": "stream",
     "text": [
      "        0      1      2      3      4      5      6      7\n",
      "A:   0.19   0.17   0.88   0.92   0.04   0.04   0.06   0.12\n",
      "C:   0.37   0.08   0.04   0.02   0.02   0.87   0.52   0.25\n",
      "G:   0.08   0.04   0.04   0.04   0.33   0.02   0.08   0.37\n",
      "T:   0.37   0.71   0.04   0.02   0.62   0.08   0.35   0.27\n",
      "\n"
     ]
    }
   ],
   "source": [
    "print(bcd.counts)"
   ]
  },
  {
   "cell_type": "code",
   "execution_count": 8,
   "metadata": {
    "collapsed": false,
    "scrolled": true
   },
   "outputs": [
    {
     "name": "stdout",
     "output_type": "stream",
     "text": [
      "        0      1      2      3      4      5      6      7\n",
      "A:   0.19   0.17   0.88   0.92   0.04   0.04   0.06   0.12\n",
      "C:   0.37   0.08   0.04   0.02   0.02   0.87   0.52   0.25\n",
      "G:   0.08   0.04   0.04   0.04   0.33   0.02   0.08   0.37\n",
      "T:   0.37   0.71   0.04   0.02   0.62   0.08   0.35   0.27\n",
      "\n",
      "<class 'Bio.motifs.matrix.PositionWeightMatrix'>\n",
      "{'alphabet': IUPACUnambiguousDNA(), 'length': 8, '_letters': ['A', 'C', 'G', 'T']}\n"
     ]
    },
    {
     "data": {
      "text/plain": [
       "296"
      ]
     },
     "execution_count": 8,
     "metadata": {},
     "output_type": "execute_result"
    }
   ],
   "source": [
    "# If you want to normalize, but has to be based off of actual sequences.\n",
    "# the problem is that you have to normalize to get pwm and you need a pwm object \n",
    "# to get the Position Specific scoring Matrix. \n",
    "# Therefore I am just normalizing to zero.\n",
    "# I may need to adjust psuedocounts for what the sequence really is or to the Drosophila genome??\n",
    "\n",
    "pwm = bcd.counts.normalize(pseudocounts=0.0)\n",
    "print(pwm)\n",
    "print(type(pwm))\n",
    "print(vars(pwm))\n",
    "dir(pwm)\n",
    "sys.getsizeof(pwm)\n"
   ]
  },
  {
   "cell_type": "markdown",
   "metadata": {},
   "source": [
    "## Postion Specific scoring matrix\n",
    "\n",
    "pssm is a specific type of object class. More info [here](http://biopython.org/DIST/docs/api/Bio.Align.AlignInfo.PSSM-class.html)."
   ]
  },
  {
   "cell_type": "code",
   "execution_count": 9,
   "metadata": {
    "collapsed": false
   },
   "outputs": [],
   "source": [
    "pssm = pwm.log_odds()"
   ]
  },
  {
   "cell_type": "code",
   "execution_count": 10,
   "metadata": {
    "collapsed": false
   },
   "outputs": [
    {
     "name": "stdout",
     "output_type": "stream",
     "text": [
      "4446107152\n",
      "4667445328\n",
      "        0      1      2      3      4      5      6      7\n",
      "A:  -0.38  -0.53   1.82   1.88  -2.70  -2.70  -2.12  -1.12\n",
      "C:   0.55  -1.70  -2.70  -3.70  -3.70   1.79   1.05  -0.00\n",
      "G:  -1.70  -2.70  -2.70  -2.70   0.39  -3.70  -1.70   0.55\n",
      "T:   0.55   1.51  -2.70  -3.70   1.30  -1.70   0.47   0.11\n",
      "\n",
      "<class 'Bio.motifs.matrix.PositionSpecificScoringMatrix'>\n",
      "IUPACUnambiguousDNA()\n"
     ]
    }
   ],
   "source": [
    "print(id(pssm.alphabet)) # id() gives a unique hash.  Good to see when data changes.\n",
    "print(id(pssm))\n",
    "\n",
    "print(pssm)\n",
    "print(type(pssm))\n",
    "print(pssm.alphabet)\n",
    "#pssm #If you ask for the raw "
   ]
  },
  {
   "cell_type": "markdown",
   "metadata": {},
   "source": [
    "## Searching for TFBS\n"
   ]
  },
  {
   "cell_type": "markdown",
   "metadata": {},
   "source": [
    "###  Selecting Threshold\n",
    "\n"
   ]
  },
  {
   "cell_type": "markdown",
   "metadata": {},
   "source": [
    "Make sure that the alphabet of both pssm and and seqTest are the same. It won't work if they are different."
   ]
  },
  {
   "cell_type": "code",
   "execution_count": 11,
   "metadata": {
    "collapsed": false
   },
   "outputs": [],
   "source": [
    "# Forward\n",
    "pssm.calculate(seqTest) \n",
    "\n",
    "# Reverse\n",
    "rpssm = pssm.reverse_complement()\n",
    "# rpssm.calculate(seqTest) #You can see the calculations"
   ]
  },
  {
   "cell_type": "code",
   "execution_count": 12,
   "metadata": {
    "collapsed": false
   },
   "outputs": [
    {
     "name": "stdout",
     "output_type": "stream",
     "text": [
      "Background: 6.291223\n",
      "Patser Threshold 3.262\n"
     ]
    }
   ],
   "source": [
    "print(\"Background: %f\" % bcd.pssm.mean(bcd.background))\n",
    "\n",
    "distribution = pssm.distribution(background=bcd.background, precision=10**4)\n",
    "#print(type(distribution)) #check\n",
    "#print(distribution) #check\n",
    "dir(distribution) #there is a threshold for patser. \n",
    "\n",
    "# that is what we should use. \n",
    "\n",
    "threshold = distribution.threshold_patser()\n",
    "print(\"Patser Threshold %5.3f\" % threshold)"
   ]
  },
  {
   "cell_type": "code",
   "execution_count": 13,
   "metadata": {
    "collapsed": false
   },
   "outputs": [
    {
     "name": "stdout",
     "output_type": "stream",
     "text": [
      "Position 157: score = 10.457\n",
      "Position -751: score = 8.946\n",
      "Position -598: score = 6.418\n",
      "Position -450: score = 9.910\n",
      "Position -338: score = 9.910\n",
      "Position 675: score = 10.016\n",
      "Position -242: score = 8.960\n",
      "Position 690: score = 6.349\n",
      "Position -59: score = 6.380\n"
     ]
    }
   ],
   "source": [
    "for position, score in pssm.search(seqTest, threshold=6):\n",
    "    print(\"Position %d: score = %5.3f\" % (position, score))"
   ]
  },
  {
   "cell_type": "markdown",
   "metadata": {},
   "source": [
    "###  Test Motifs present\n",
    "\n",
    "We need to output a vector of all the positions from the search function, so we can can output all the motifs found for testing if the search threshold is valuable. "
   ]
  },
  {
   "cell_type": "code",
   "execution_count": 14,
   "metadata": {
    "collapsed": false,
    "scrolled": true
   },
   "outputs": [
    {
     "name": "stdout",
     "output_type": "stream",
     "text": [
      "atataacccaataattttaactaactcgcaggagcggcaagaaggatgcgttgttacccggtaatgcataacaatggtcctcggaacggggaattggaaactaggacatggatcgaaggttcctcctcaccctgtctctgtgtgtgtttgtgccgtgttaatccgttttccatcagccagattattagtcaattttgggccagttttccagcatttcccttttggcatcgtttcactttcgagttagattttattgccgcatcttgaacaatcgaaacggagttttggtaacacgctgtgctctacttttactggctttcaattgagaacggaattaaacggaattccgggagttaagagaagacaggagacaggagacaggctagagaccctgactagaggccaaaaaccgggttgcaaagtcaggagattccgttcgaatgcaaggactctaacccagtttgtttgtttgtttgctgggattagccgagggcttgacttggtaccccgatcccgaagatctttgagccgcgatcccgtttcccgattttcattagaaagtcataaaaacacataataatgatgtcgaagggattagctggacatatccctatccctggcccaaaggcaggcagcctagctttgctgggtttattttttgcgctgacttaacccttaatcctcagcagcttaagcgtagcaggtagagttctggtatcccttttttgcgcaaactttgttgtgtttttgttgtgtagtcccccccctttgaaaggaccttctgccagggggtacagttgcctccaactgggcatgattatatcatcataataaatgttttgcccaacgaaaccgtagctaaaacttttcaaattaagtctccagcaactgaggccgttcctcctggaacccagccattatcctgcta\n",
      "<type 'list'>\n",
      "928\n",
      "atataaccca\n",
      "caactgaggccgt\n",
      "cattatcctgct\n",
      "a\n",
      "t\n",
      "c\n",
      "ataattt\n",
      "ttaatcc\n",
      "cagatta\n",
      "tagattt\n",
      "gagtttt\n",
      "tggcttt\n",
      "ggaatta\n",
      "ttaaacg\n",
      "aaaaacc\n",
      "ctaaccc\n",
      "gggatta\n",
      "attagcc\n",
      "gggcttg\n",
      "ttgagcc\n",
      "ccgattt\n",
      "gggatta\n",
      "attagct\n",
      "catatcc\n",
      "cagccta\n",
      "tagcttt\n",
      "gggttta\n",
      "tgactta\n",
      "ttaaccc\n",
      "ttaatcc\n",
      "cagctta\n",
      "ttaagcg\n",
      "atgatta\n",
      "taaaact\n",
      "caaatta\n",
      "ttaagtc\n",
      "attatcc\n"
     ]
    }
   ],
   "source": [
    "#initiate \n",
    "allPos = []\n",
    "print(seqTest)\n",
    "#how do I output a vector?\n",
    "for position, score in pssm.search(seqTest, threshold=3.262): \n",
    "    allPos.append(position)\n",
    "\n",
    "print(type(allPos))\n",
    "\n",
    "#length of motif\n",
    "m = 7\n",
    "print(len(seqTest))\n",
    "\n",
    "print(seqTest[0:10]) # first 10 nucleotides\n",
    "print(seqTest[885:898]) # last 10 nucleotides\n",
    "print(seqTest[-13:-1]) # with negative numbers, which go from last position. \n",
    "# But you cannot use zero. How would you identify the last nucleotide?\n",
    "\n",
    "print(seqTest[-1]) #first, can be called here though?\n",
    "print(seqTest[-2])\n",
    "print(seqTest[-3])\n",
    "\n",
    "for pos in allPos:\n",
    "    print(seqTest[pos:pos+m]) # this will find and print the motifs"
   ]
  },
  {
   "cell_type": "markdown",
   "metadata": {},
   "source": [
    "## To Do\n",
    "- Now I need to check.  I should really be doing this in D. mel.\n",
    "- AND I fully need to understand exactly what is this saying.\n"
   ]
  },
  {
   "cell_type": "markdown",
   "metadata": {},
   "source": [
    "## Resources\n",
    "1. [describing periods](http://reeborg.ca/docs/oop_py_en/oop.html)\n",
    "2. [Into to classes and objects](http://openbookproject.net/thinkcs/python/english3e/classes_and_objects_I.html)\n",
    "3. [Python Lists](http://effbot.org/zone/python-list.htm)\n",
    "4. [Joining and Merging](https://chrisalbon.com/python/pandas_join_merge_dataframe.html)\n",
    "5. [enumerate over lists](https://www.saltycrane.com/blog/2008/04/how-to-use-pythons-enumerate-and-zip-to/)"
   ]
  },
  {
   "cell_type": "code",
   "execution_count": null,
   "metadata": {
    "collapsed": true
   },
   "outputs": [],
   "source": []
  }
 ],
 "metadata": {
  "kernelspec": {
   "display_name": "Python 2",
   "language": "python",
   "name": "python2"
  },
  "language_info": {
   "codemirror_mode": {
    "name": "ipython",
    "version": 2
   },
   "file_extension": ".py",
   "mimetype": "text/x-python",
   "name": "python",
   "nbconvert_exporter": "python",
   "pygments_lexer": "ipython2",
   "version": "2.7.13"
  }
 },
 "nbformat": 4,
 "nbformat_minor": 0
}
