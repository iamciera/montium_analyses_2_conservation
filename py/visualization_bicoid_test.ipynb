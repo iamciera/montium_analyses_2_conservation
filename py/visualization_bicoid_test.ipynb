{
 "cells": [
  {
   "cell_type": "markdown",
   "metadata": {},
   "source": [
    "## Visualization and Analysis\n",
    "\n",
    "This notebook is to go through and experiment ways to visualize and analyze the data. \n",
    "\n"
   ]
  },
  {
   "cell_type": "code",
   "execution_count": 1,
   "metadata": {
    "collapsed": false
   },
   "outputs": [],
   "source": [
    "import pandas as pd\n",
    "import seaborn as sns\n",
    "import numpy as np\n",
    "from ggplot import *\n",
    "import matplotlib.pyplot as plt\n"
   ]
  },
  {
   "cell_type": "code",
   "execution_count": 2,
   "metadata": {
    "collapsed": false
   },
   "outputs": [],
   "source": [
    "###################\n",
    "## Read in Data\n",
    "####################\n",
    "\n",
    "all_df = pd.read_table(\"../data/outputs/TFBS_map_DF_all_bicoid_test.csv\", na_values = 'NA',sep= \"\\t\", index_col = 0)\n"
   ]
  },
  {
   "cell_type": "code",
   "execution_count": 3,
   "metadata": {
    "collapsed": false
   },
   "outputs": [
    {
     "name": "stdout",
     "output_type": "stream",
     "text": [
      "     position      score  species  raw_position    strand motif_found  \\\n",
      "0          10   5.013668        0            10  positive    ataatttt   \n",
      "2        -751   8.946094        0           154  negative    tcctcgcc   \n",
      "1         157  10.457056        0           157  positive    ttcctcgc   \n",
      "3        -684   5.243600        0           221  negative    tcgttccc   \n",
      "4        -649   3.285077        0           256  negative    tattgccg   \n",
      "5        -616   3.594098        0           289  negative    ttggtacc   \n",
      "6        -598   6.417715        0           307  negative    ctacattt   \n",
      "7         334   3.702168        0           334  positive    gaacggaa   \n",
      "8         404   3.491528        0           404  positive    gcaaaagt   \n",
      "9         451   3.794091        0           451  positive    gtttttgc   \n",
      "10       -450   9.909568        0           455  negative    tgggatta   \n",
      "12       -438   5.787577        0           467  negative    agggcttg   \n",
      "11        481   4.094957        0           481  positive    ttggtacc   \n",
      "14       -385   4.736640        0           520  negative    gtaccgat   \n",
      "13        523   5.020957        0           523  positive    tgtaccga   \n",
      "15       -338   9.909568        0           567  negative    gaagggat   \n",
      "16        593   3.509995        0           593  positive    caaggcag   \n",
      "17        603   3.346478        0           603  positive    agcataac   \n",
      "18       -296   4.374594        0           609  negative    tgctgggt   \n",
      "19       -291   5.257062        0           614  negative    ggttattt   \n",
      "20       -281   4.983569        0           624  negative    tgtttttt   \n",
      "21       -264   4.389700        0           641  negative    ttaaccct   \n",
      "24       -242   8.959556        0           663  negative    taagccca   \n",
      "22        668   5.016483        0           668  positive    aagcccag   \n",
      "23        675  10.016483        0           675  positive    gcacagca   \n",
      "25        690   6.349059        0           690  positive    ttttggtg   \n",
      "26       -115   5.920559        0           790  negative    atgattat   \n",
      "28        -59   6.380240        0           846  negative    tttcaaat   \n",
      "27        859   3.391992        0           859  positive    aagtccca   \n",
      "29        873   5.612093        0           873  positive    ggggccgt   \n",
      "..        ...        ...      ...           ...       ...         ...   \n",
      "204        89   4.894493        7            89  positive    cgaagcct   \n",
      "205       169  10.457056        7           169  positive    ttaatccg   \n",
      "206      -720   8.946094        7           185  negative    cagattat   \n",
      "207      -656   5.243600        7           249  negative    tagatttt   \n",
      "208      -621   3.391992        7           284  negative    aagttttg   \n",
      "209      -589   3.594098        7           316  negative    tggctttc   \n",
      "210      -571   6.417715        7           334  negative    ggaattaa   \n",
      "211       342   3.702168        7           342  positive    ttaaacgg   \n",
      "212      -542   4.431520        7           363  negative    aggagtag   \n",
      "213       392   3.491528        7           392  positive    aaaaaccg   \n",
      "214       431   3.794091        7           431  positive    ctaaccca   \n",
      "215      -449   9.909568        7           456  negative    gggattag   \n",
      "216       463   4.094957        7           463  positive    attagccg   \n",
      "217      -437   5.787577        7           468  negative    gggcttga   \n",
      "218       506   8.959556        7           506  positive    ttaagctg   \n",
      "219      -382   4.736640        7           523  negative    ccgatttt   \n",
      "220      -335   9.909568        7           570  negative    gggattag   \n",
      "221      -307   3.374593        7           598  negative    cagcataa   \n",
      "222      -268   4.389700        7           637  negative    tgacttaa   \n",
      "223       645   5.016483        7           645  positive    ttaaccct   \n",
      "224       651   9.909568        7           651  positive    ctaatccc   \n",
      "225      -247   8.959556        7           658  negative    cagcttaa   \n",
      "226       666   8.997031        7           666  positive    ttaagccc   \n",
      "227      -222   3.285077        7           683  negative    gagttttg   \n",
      "228      -198   3.391992        7           707  negative    aagttttg   \n",
      "229      -115   5.920559        7           790  negative    atgattat   \n",
      "230       -56   6.380240        7           849  negative    caaattaa   \n",
      "231       857   5.505177        7           857  positive    ttaagtcc   \n",
      "232       858   3.285077        7           858  positive    taagtccc   \n",
      "233       899   4.422532        7           899  positive    attatctg   \n",
      "\n",
      "     align_position  \n",
      "0                10  \n",
      "2               220  \n",
      "1               223  \n",
      "3               320  \n",
      "4               355  \n",
      "5               388  \n",
      "6               414  \n",
      "7               442  \n",
      "8               530  \n",
      "9               584  \n",
      "10              591  \n",
      "12              603  \n",
      "11              617  \n",
      "14              684  \n",
      "13              687  \n",
      "15              743  \n",
      "16              771  \n",
      "17              781  \n",
      "18              787  \n",
      "19              792  \n",
      "20              809  \n",
      "21              827  \n",
      "24              850  \n",
      "22              855  \n",
      "23              867  \n",
      "25              892  \n",
      "26             1015  \n",
      "28             1075  \n",
      "27             1088  \n",
      "29             1102  \n",
      "..              ...  \n",
      "204             100  \n",
      "205             206  \n",
      "206             222  \n",
      "207             327  \n",
      "208             362  \n",
      "209             401  \n",
      "210             420  \n",
      "211             429  \n",
      "212             450  \n",
      "213             491  \n",
      "214             533  \n",
      "215             575  \n",
      "216             582  \n",
      "217             587  \n",
      "218             625  \n",
      "219             646  \n",
      "220             698  \n",
      "221             726  \n",
      "222             796  \n",
      "223             810  \n",
      "224             817  \n",
      "225             824  \n",
      "226             833  \n",
      "227             856  \n",
      "228             892  \n",
      "229             984  \n",
      "230            1046  \n",
      "231            1054  \n",
      "232            1055  \n",
      "233            1122  \n",
      "\n",
      "[231 rows x 7 columns]\n"
     ]
    }
   ],
   "source": [
    "# remove all rows with NAs\n",
    "all_df = all_df.dropna()\n",
    "\n",
    "# Check\n",
    "print all_df"
   ]
  },
  {
   "cell_type": "code",
   "execution_count": 6,
   "metadata": {
    "collapsed": false
   },
   "outputs": [
    {
     "data": {
      "text/plain": [
       "<ggplot: (300979097)>"
      ]
     },
     "execution_count": 6,
     "metadata": {},
     "output_type": "execute_result"
    }
   ],
   "source": [
    "ggplot(aes(x='species', y = 'strand'), data = all_df) +\\\n",
    "    geom_bar()ga"
   ]
  },
  {
   "cell_type": "code",
   "execution_count": null,
   "metadata": {
    "collapsed": true
   },
   "outputs": [],
   "source": []
  }
 ],
 "metadata": {
  "kernelspec": {
   "display_name": "Python 2",
   "language": "python",
   "name": "python2"
  },
  "language_info": {
   "codemirror_mode": {
    "name": "ipython",
    "version": 2
   },
   "file_extension": ".py",
   "mimetype": "text/x-python",
   "name": "python",
   "nbconvert_exporter": "python",
   "pygments_lexer": "ipython2",
   "version": "2.7.13"
  }
 },
 "nbformat": 4,
 "nbformat_minor": 0
}
