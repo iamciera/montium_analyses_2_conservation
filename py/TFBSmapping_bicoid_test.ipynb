{
 "cells": [
  {
   "cell_type": "markdown",
   "metadata": {},
   "source": [
    "## Bring in Alignment for mapping\n",
    "\n",
    "This program will map TFBS using the Biopython's motif package.\n",
    "\n",
    "**Inputs**: \n",
    "1. before alignment (fasta) \n",
    "2. after alignment (fasta) \n",
    "3. TFBS Position Frequency Matrix.\n",
    "\n",
    "**Outputs**:\n",
    "1. `.csv` file that outputs found TFBSs at each position, if any, in alignment (position, score, species, raw_position, strand motif_found)\n",
    "2. `.csv` file that outputs only TFBS found.\n",
    "\n",
    "**To Do**:\n",
    "- [ ] Make Vector that attaches\n",
    "- [ ] Attach real species name\n",
    "- [ ] Loop through all files in directory\n",
    "- [ ] Write file name in last column\n",
    "- [ ] Append to a file \n",
    "- [ ] Have all of the important checks read out into a file"
   ]
  },
  {
   "cell_type": "code",
   "execution_count": 21,
   "metadata": {
    "collapsed": false
   },
   "outputs": [],
   "source": [
    "from Bio import motifs\n",
    "from Bio import SeqIO \n",
    "from Bio.Seq import Seq\n",
    "from Bio.Alphabet import IUPAC, generic_dna, generic_protein\n",
    "from collections import defaultdict\n",
    "import re\n",
    "import pandas as pd\n",
    "import numpy as np\n",
    "import os, sys"
   ]
  },
  {
   "cell_type": "code",
   "execution_count": 22,
   "metadata": {
    "collapsed": true
   },
   "outputs": [],
   "source": [
    "####################\n",
    "## Functions\n",
    "#####################\n",
    "\n",
    "## Print full DF\n",
    "def print_full(x):\n",
    "    pd.set_option('display.max_rows', len(x))\n",
    "    print(x)\n",
    "    pd.reset_option('display.max_rows')"
   ]
  },
  {
   "cell_type": "code",
   "execution_count": null,
   "metadata": {
    "collapsed": true
   },
   "outputs": [],
   "source": [
    "#####################\n",
    "## sys Inputs - to do\n",
    "#####################\n",
    "\n",
    "## So I can run in shell and loop through sequences AND motifs to get a giant dataset\n",
    "\n",
    "### input1 = open(sys.argv[1]) #file that contains text\n",
    "## input2 = open(sys.argv[2]) #file that contains terms to search for"
   ]
  },
  {
   "cell_type": "code",
   "execution_count": 23,
   "metadata": {
    "collapsed": false
   },
   "outputs": [
    {
     "name": "stdout",
     "output_type": "stream",
     "text": [
      "Found 9 records in alignment file\n",
      "1136\n",
      "1136\n",
      "1136\n",
      "1136\n",
      "1136\n",
      "1136\n",
      "1136\n",
      "1136\n",
      "1136\n"
     ]
    }
   ],
   "source": [
    "##################\n",
    "## Input 1 - Alignment Input \n",
    "##################\n",
    "\n",
    "## read in alignment as a list of sequences\n",
    "alignment = list(SeqIO.parse(\"../data/fasta/output_ludwig_eve-striped-2.fa\", \"fasta\"))\n",
    "\n",
    "## Get alignment ID list (for later)\n",
    "alignment_id = []\n",
    "for seq in alignment:\n",
    "    alignment_id.append(str(seq.id))\n",
    "    \n",
    "## Check \n",
    "print(\"Found %i records in alignment file\" % len(alignment))\n",
    "\n",
    "## Sequence Length should be the same for all alignment sequences\n",
    "for seq in alignment:\n",
    "    print len(seq)\n",
    "    \n",
    "## Turn sequences into a list of strings\n",
    "## Note: They are no longer bio.seq.seq objects\n",
    "alignment_string_list = []\n",
    "for seq in alignment:\n",
    "    alignment_string_list.append(str(seq.seq))"
   ]
  },
  {
   "cell_type": "code",
   "execution_count": 24,
   "metadata": {
    "collapsed": false
   },
   "outputs": [
    {
     "name": "stdout",
     "output_type": "stream",
     "text": [
      "Found 9 records in raw sequence file\n",
      "928\n",
      "875\n",
      "898\n",
      "868\n",
      "862\n",
      "913\n",
      "905\n",
      "909\n",
      "868\n"
     ]
    }
   ],
   "source": [
    "#####################\n",
    "## Input 2 - Raw Sequences Input\n",
    "#####################\n",
    "\n",
    "## This is used to search for TFBSs in sequences\n",
    "\n",
    "raw_sequences = list(SeqIO.parse(\"../data/fasta/ludwig_eve-striped-2.fasta\", \"fasta\"))\n",
    "print(\"Found %i records in raw sequence file\" % len(raw_sequences))\n",
    "\n",
    "## make all IUPAC.IUPACUnambiguousDNA()\n",
    "raw_sequences_2 = []\n",
    "for seq in raw_sequences:\n",
    "    raw_sequences_2.append(Seq(str(seq.seq), IUPAC.IUPACUnambiguousDNA()))\n",
    "    print len(seq)"
   ]
  },
  {
   "cell_type": "code",
   "execution_count": 25,
   "metadata": {
    "collapsed": false
   },
   "outputs": [
    {
     "name": "stdout",
     "output_type": "stream",
     "text": [
      "        0      1      2      3      4      5      6      7\n",
      "A:   0.19   0.17   0.88   0.92   0.04   0.04   0.06   0.12\n",
      "C:   0.37   0.08   0.04   0.02   0.02   0.87   0.52   0.25\n",
      "G:   0.08   0.04   0.04   0.04   0.33   0.02   0.08   0.37\n",
      "T:   0.37   0.71   0.04   0.02   0.62   0.08   0.35   0.27\n",
      "\n",
      "        0      1      2      3      4      5      6      7\n",
      "A:  -0.38  -0.53   1.82   1.88  -2.70  -2.70  -2.12  -1.12\n",
      "C:   0.55  -1.70  -2.70  -3.70  -3.70   1.79   1.05  -0.00\n",
      "G:  -1.70  -2.70  -2.70  -2.70   0.39  -3.70  -1.70   0.55\n",
      "T:   0.55   1.51  -2.70  -3.70   1.30  -1.70   0.47   0.11\n",
      "\n"
     ]
    }
   ],
   "source": [
    "#####################\n",
    "## Input 3 - Motif Input\n",
    "#####################\n",
    "\n",
    "motif = motifs.read(open(\"../data/PWM/transpose_fm/bcd_FlyReg.fm\"),\"pfm\")\n",
    "motif.weblogo(\"mymotif.png\")\n",
    "print(motif.counts)\n",
    "pwm = motif.counts.normalize(pseudocounts=0.0) # Doesn't change from pwm\n",
    "pssm = pwm.log_odds()\n",
    "print(pssm) # Why do I need log odds exactly?\n",
    "motif_length = len(motif) #for later retrival of nucleotide sequence\n"
   ]
  },
  {
   "cell_type": "code",
   "execution_count": 26,
   "metadata": {
    "collapsed": false
   },
   "outputs": [],
   "source": [
    "######################\n",
    "## Searching for Motifs in Sequences\n",
    "######################\n",
    "\n",
    "## Returns a list of arrays with a score for each position\n",
    "\n",
    "## This give the score for each position\n",
    "## If you print the length you get the length of the sequence minus TFBS length. \n",
    "\n",
    "## Forward stand\n",
    "\n",
    "pssm_list = [ ]\n",
    "for seq in raw_sequences_2:\n",
    "    pssm_list.append(pssm.calculate(seq))\n",
    "\n",
    "## Check\n",
    "## You should notice that the length is total length of raw_sequence minus length of motif.\n",
    "## for seq in pssm_list:\n",
    "##    print len(seq)\n",
    "    \n",
    "## Reverse strand\n",
    "## rpssm = pssm.reverse_complement()"
   ]
  },
  {
   "cell_type": "code",
   "execution_count": 27,
   "metadata": {
    "collapsed": false
   },
   "outputs": [
    {
     "name": "stdout",
     "output_type": "stream",
     "text": [
      "Patser Threshold is 3.262\n"
     ]
    }
   ],
   "source": [
    "########################## \n",
    "## Automatic Calculation of threshold\n",
    "##########################\n",
    "\n",
    "## Ideal to find something that automatically calculates, as\n",
    "## opposed to having human choosing.\n",
    "\n",
    "## Approximate calculation of appropriate thresholds for motif finding \n",
    "## Patser Threshold\n",
    "## It selects such a threshold that the log(fpr)=-ic(M) \n",
    "## note: the actual patser software uses natural logarithms instead of log_2, so the numbers \n",
    "## are not directly comparable. \n",
    "\n",
    "distribution = pssm.distribution(background=motif.background, precision=10**4)\n",
    "patser_threshold = distribution.threshold_patser() #for use later\n",
    "\n",
    "print(\"Patser Threshold is %5.3f\" % patser_threshold) # Calculates Paster threshold. "
   ]
  },
  {
   "cell_type": "code",
   "execution_count": 28,
   "metadata": {
    "collapsed": false
   },
   "outputs": [],
   "source": [
    "###################################\n",
    "## Searching for motif in all raw_sequences\n",
    "#################################\n",
    "\n",
    "position_list = []\n",
    "for i in range(0,8):\n",
    "    for position, score in pssm.search(raw_sequences_2[i], threshold = patser_threshold):\n",
    "        positions = {'score':score, 'position':position, 'species': i}\n",
    "        position_list.append(positions)\n",
    "        \n",
    "position_DF = pd.DataFrame(position_list)\n",
    "\n",
    "## Check\n",
    "## print position_DF"
   ]
  },
  {
   "cell_type": "code",
   "execution_count": 29,
   "metadata": {
    "collapsed": false
   },
   "outputs": [],
   "source": [
    "#############################\n",
    "## Add strand and pos position information as columns to position_DF\n",
    "##############################\n",
    "\n",
    "## raw_position column\n",
    "## change position to positive\n",
    "position_list_pos = []\n",
    "for x in position_DF['position']:\n",
    "    if x < 0:\n",
    "       position_list_pos.append(905 + x)\n",
    "    else:\n",
    "       position_list_pos.append(x)\n",
    "\n",
    "## append to position_DF\n",
    "position_DF['raw_position'] = position_list_pos\n",
    "    \n",
    "## strand Column\n",
    "strand = []\n",
    "for x in position_DF['position']:\n",
    "    if x < 0:\n",
    "       strand.append(\"negative\")\n",
    "    else:\n",
    "       strand.append(\"positive\")\n",
    "    \n",
    "## append to position_DF\n",
    "position_DF['strand'] = strand\n",
    "\n",
    "## motif_found column\n",
    "## First turn into a list of strings\n",
    "raw_sequences_2_list = []\n",
    "for seq in raw_sequences_2:\n",
    "    raw_sequences_2_list.append(str(seq))\n",
    "\n",
    "## Now get all motifs found in sequences\n",
    "motif_found = []\n",
    "for x in position_DF['position']:\n",
    "    motif_found.append(raw_sequences_2_list[i][x:x + motif_length])\n",
    "\n",
    "## append to position_DF\n",
    "position_DF['motif_found'] = motif_found\n",
    "\n",
    "\n",
    "## Check\n",
    "## len(motif_found)    \n",
    "## print(motif_found) \n",
    "## print(position_DF)"
   ]
  },
  {
   "cell_type": "code",
   "execution_count": 30,
   "metadata": {
    "collapsed": false
   },
   "outputs": [],
   "source": [
    "##################\n",
    "## get alignment position \n",
    "#################\n",
    "\n",
    "## Need to map to the sequence alignment position\n",
    "\n",
    "remap_list = []\n",
    "nuc_list = ['A', 'a', 'G', 'g', 'C', 'c', 'T', 't', 'N', 'n']\n",
    "\n",
    "\n",
    "positions = {'score':score, 'position':position, 'species': i}\n",
    "position_list.append(positions)\n",
    "\n",
    "\n",
    "for i in range(0,8):\n",
    "    counter = 0\n",
    "    for xInd, x in enumerate(alignment_string_list[i]):    \n",
    "        if x in nuc_list:\n",
    "            remaps = {'raw_position': counter, 'align_position':xInd, 'species':i}\n",
    "            counter += 1\n",
    "            remap_list.append(remaps)\n",
    "remap_DF = pd.DataFrame(remap_list)\n",
    "            \n",
    "## Check\n",
    "## print_full(remap_DF)"
   ]
  },
  {
   "cell_type": "code",
   "execution_count": 31,
   "metadata": {
    "collapsed": false
   },
   "outputs": [
    {
     "name": "stdout",
     "output_type": "stream",
     "text": [
      "(234, 6)\n",
      "(7098, 3)\n",
      "     position      score  species  raw_position    strand motif_found  \\\n",
      "0          10   5.013668        0            10  positive    ataatttt   \n",
      "85         10   5.454241        3            10  positive    ataatttt   \n",
      "111        10   5.013668        4            10  positive    ataatttt   \n",
      "30         10   5.013668        1            10  positive    ataatttt   \n",
      "139        10   5.454241        5            10  positive    ataatttt   \n",
      "166        10   5.013668        6            10  positive    ataatttt   \n",
      "200        10   5.013668        7            10  positive    ataatttt   \n",
      "57         10   5.013668        2            10  positive    ataatttt   \n",
      "58         76   4.559102        2            76  positive    ggcactcc   \n",
      "201        89   4.894493        7            89  positive    cgaagcct   \n",
      "167      -804   3.414712        6           101  negative    ggaactga   \n",
      "86        144  10.457056        3           144  positive    acatgaag   \n",
      "168       145  10.457056        6           145  positive    catgaagg   \n",
      "112       150  10.457056        4           150  positive    aggaaggt   \n",
      "31        150  10.457056        1           150  positive    aggaaggt   \n",
      "2        -751   8.946094        0           154  negative    tcctcgcc   \n",
      "1         157  10.457056        0           157  positive    ttcctcgc   \n",
      "59        165  10.457056        2           165  positive    cttgttaa   \n",
      "169      -740   8.946094        6           165  negative    ttaatccg   \n",
      "202       169  10.457056        7           169  positive    ttaatccg   \n",
      "140       174  10.457056        5           174  positive    ccgtttgc   \n",
      "203      -720   8.946094        7           185  negative    cagattat   \n",
      "141      -719   8.946094        5           186  negative    agattatt   \n",
      "60       -713   8.946094        2           192  negative    ttagtcaa   \n",
      "87       -697   8.946094        3           208  negative    cagttttc   \n",
      "32       -691   8.946094        1           214  negative    tccagcat   \n",
      "3        -684   5.243600        0           221  negative    tcgttccc   \n",
      "113      -678   8.946094        4           227  negative    cctcatcg   \n",
      "170      -664   3.572565        6           241  negative    tttcgagt   \n",
      "204      -656   5.243600        7           249  negative    tagatttt   \n",
      "..        ...        ...      ...           ...       ...         ...   \n",
      "193       -96   3.995421        6           809  negative    aaatgttt   \n",
      "194       813   3.391992        6           813  positive    aaatgttt   \n",
      "108       814   5.505177        3           814  positive    aatgtttt   \n",
      "109       815   3.285077        3           815  positive    atgttttg   \n",
      "54        821   5.505177        1           821  positive    tgtgcctc   \n",
      "55        822   3.285077        1           822  positive    gtgcctca   \n",
      "195       -82   6.380240        6           823  negative    tcaacgaa   \n",
      "196       827   5.505177        6           827  positive    tcaacgaa   \n",
      "197       828   3.285077        6           828  positive    caacgaaa   \n",
      "163       844   3.391992        5           844  positive    aaaacttt   \n",
      "83        846   5.505177        2           846  positive    aacttttc   \n",
      "164       -59   6.380240        5           846  negative    tttcaaat   \n",
      "28        -59   6.380240        0           846  negative    tttcaaat   \n",
      "84        847   3.285077        2           847  positive    acttttca   \n",
      "53        -58   6.380240        1           847  negative    ttcaaatt   \n",
      "107       -58   6.380240        3           847  negative    ttcaaatt   \n",
      "135       -58   6.380240        4           847  negative    ttcaaatt   \n",
      "82        -56   6.380240        2           849  negative    caaattaa   \n",
      "227       -56   6.380240        7           849  negative    caaattaa   \n",
      "138       850   3.875044        4           850  positive    tttcaaat   \n",
      "110       856   3.875044        3           856  positive    attaagtc   \n",
      "228       857   5.505177        7           857  positive    ttaagtcc   \n",
      "229       858   3.285077        7           858  positive    taagtccc   \n",
      "165       858   5.612093        5           858  positive    taagtccc   \n",
      "27        859   3.391992        0           859  positive    aagtccca   \n",
      "56        863   3.875044        1           863  positive    cccagcaa   \n",
      "198       873   3.861578        6           873  positive    ggggccgt   \n",
      "29        873   5.612093        0           873  positive    ggggccgt   \n",
      "199       895   3.875044        6           895  positive    agccatta   \n",
      "230       899   4.422532        7           899  positive    attatctg   \n",
      "\n",
      "     align_position  \n",
      "0                10  \n",
      "85               10  \n",
      "111              10  \n",
      "30               10  \n",
      "139              10  \n",
      "166              10  \n",
      "200              10  \n",
      "57               10  \n",
      "58               79  \n",
      "201             100  \n",
      "167             112  \n",
      "86              205  \n",
      "168             188  \n",
      "112             158  \n",
      "31              217  \n",
      "2               220  \n",
      "1               223  \n",
      "59              226  \n",
      "169             211  \n",
      "202             206  \n",
      "140             288  \n",
      "203             222  \n",
      "141             316  \n",
      "60              253  \n",
      "87              269  \n",
      "32              290  \n",
      "3               320  \n",
      "113             295  \n",
      "170             313  \n",
      "204             327  \n",
      "..              ...  \n",
      "193            1015  \n",
      "194            1019  \n",
      "108            1061  \n",
      "109            1063  \n",
      "54             1063  \n",
      "55             1064  \n",
      "195            1032  \n",
      "196            1036  \n",
      "197            1037  \n",
      "163            1084  \n",
      "83             1081  \n",
      "164            1112  \n",
      "28             1075  \n",
      "84             1082  \n",
      "53             1115  \n",
      "107            1121  \n",
      "135            1045  \n",
      "82             1084  \n",
      "227            1046  \n",
      "138            1048  \n",
      "110            1130  \n",
      "228            1054  \n",
      "229            1055  \n",
      "165            1124  \n",
      "27             1088  \n",
      "56             1131  \n",
      "198            1083  \n",
      "29             1102  \n",
      "199            1131  \n",
      "230            1122  \n",
      "\n",
      "[231 rows x 7 columns]\n"
     ]
    }
   ],
   "source": [
    "## Merge both datasets\n",
    "\n",
    "## Check first\n",
    "print(position_DF.shape)\n",
    "print(remap_DF.shape)\n",
    "\n",
    "## Merge - all sites\n",
    "TFBS_map_DF_all = pd.merge(position_DF, remap_DF, on=['species', 'raw_position'], how='outer')\n",
    "TFBS_map_DF_all = TFBS_map_DF_all.sort_values(by=['species','align_position'], ascending=[True, True])\n",
    "\n",
    "## Check\n",
    "## print_full(TFBS_map_DF_all)\n",
    "## print(TFBS_map_DF_all.shape)\n",
    "\n",
    "# Merge - only signal \n",
    "TFBS_map_DF_only_signal = pd.merge(position_DF, remap_DF, on=['species', 'raw_position'], how='inner')\n",
    "TFBS_map_DF_only_signal = TFBS_map_DF_only_signal.sort_values(by=['species','align_position'], ascending=[True, True])\n",
    "\n",
    "## To quickly check if species share similar TFBS positions\n",
    "print(TFBS_map_DF_only_signal.sort_values(by=['raw_position'], ascending=[True]))\n",
    "\n",
    "\n",
    "## Check\n",
    "## print_full(TFBS_map_DF_only_signal)\n",
    "## print(TFBS_map_DF_only_signal.shape)"
   ]
  },
  {
   "cell_type": "code",
   "execution_count": null,
   "metadata": {
    "collapsed": true
   },
   "outputs": [],
   "source": [
    "####################\n",
    "## Attach input files name as a column\n",
    "#####################\n",
    "\n",
    "## Ideally I would attach the file name of the 1. raw sequence and 2. the motif being tested\n",
    "\n",
    "\n"
   ]
  }
 ],
 "metadata": {
  "kernelspec": {
   "display_name": "Python 2",
   "language": "python",
   "name": "python2"
  },
  "language_info": {
   "codemirror_mode": {
    "name": "ipython",
    "version": 2
   },
   "file_extension": ".py",
   "mimetype": "text/x-python",
   "name": "python",
   "nbconvert_exporter": "python",
   "pygments_lexer": "ipython2",
   "version": "2.7.13"
  }
 },
 "nbformat": 4,
 "nbformat_minor": 0
}
